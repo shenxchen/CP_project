{
 "cells": [
  {
   "cell_type": "markdown",
   "metadata": {},
   "source": [
    "# Assignment Week 7\n",
    "## Group Assignment (Group 10)"
   ]
  },
  {
   "cell_type": "markdown",
   "metadata": {},
   "source": [
    "#### 1. Use your eigenproblem solver to find the eigenvalues of the matrix\n",
    "\n",
    "$$\n",
    "A =\\begin{pmatrix}\n",
    "−2 &+2 &−3\\\\\n",
    "+2 &+1 &−6\\\\\n",
    "−1 &−2 &+0\n",
    "\\end{pmatrix}\n",
    "$$"
   ]
  },
  {
   "cell_type": "markdown",
   "metadata": {},
   "source": [
    "#### (1) Verify that you obtain the eigenvalues $\\lambda_1 = 5$, $\\lambda_2 = \\lambda_3 = −3$. Notice that double roots can cause problems. In particular, there is a uniqueness issue with their eigenvectors because any combination of these eigenvectors is also an eigenvector."
   ]
  },
  {
   "cell_type": "code",
   "execution_count": 1,
   "metadata": {},
   "outputs": [
    {
     "name": "stdout",
     "output_type": "stream",
     "text": [
      "Eigenvalue  Eigenvector\n",
      "-3.000      [-0.9526  0.2722 -0.1361]\n",
      " 5.000      [ 0.4082  0.8165 -0.4082]\n",
      "-3.000      [ 0.0516  0.8229  0.5658]\n"
     ]
    }
   ],
   "source": [
    "from numpy import *\n",
    "set_printoptions(threshold=10, formatter={'float': '{:7.4f}'.format})\n",
    "\n",
    "A = array([[-2, 2, -3], [2, 1, -6], [-1, -2, 0]])\n",
    "E, V = linalg.eig(A)\n",
    "\n",
    "print('Eigenvalue ', 'Eigenvector')\n",
    "for i in range(3):\n",
    "    print('{:6.3f}      {:}'.format(E[i], V[:, i]))"
   ]
  },
  {
   "cell_type": "markdown",
   "metadata": {},
   "source": [
    "#### (2) Verify that the eigenvector for $λ_1 = 5$ is proportional to\n",
    "$$\n",
    "x_1 = \\frac{1}{\\sqrt{6}}\\begin{pmatrix}\n",
    "−1 \\\\ −2 \\\\+1\\end{pmatrix}\n",
    "$$"
   ]
  },
  {
   "cell_type": "code",
   "execution_count": 2,
   "metadata": {},
   "outputs": [
    {
     "name": "stdout",
     "output_type": "stream",
     "text": [
      "x_1 = [-0.4082 -0.8165  0.4082]\n",
      "v_1 = [ 0.4082  0.8165 -0.4082]\n"
     ]
    }
   ],
   "source": [
    "x_1 = 1 / sqrt(6) * array([-1, -2, 1])  # the correct eigenvector\n",
    "v_1 = V[:, 1]  # the calculated eigenvector\n",
    "print('x_1 =', x_1)\n",
    "print('v_1 =', v_1)"
   ]
  },
  {
   "cell_type": "markdown",
   "metadata": {},
   "source": [
    "Obviously, the eigenvector $v_1=-x_1$."
   ]
  },
  {
   "cell_type": "markdown",
   "metadata": {},
   "source": [
    "#### (3) The eigenvalue −3 corresponds to a double root. This means that the corresponding eigenvectors are degenerate, which in turn means that they are not unique. Two linearly independent ones are \n",
    "$$\n",
    "x_2 = \\frac{1}{\\sqrt{5}}\\begin{pmatrix}\n",
    "−2\\\\ +1\\\\0\\end{pmatrix},\\quad\n",
    "x_3 = \\frac{1}{\\sqrt{10}}\\begin{pmatrix}\n",
    "3\\\\ 0\\\\1\\end{pmatrix}\n",
    "$$\n",
    "\n",
    "#### In this case, it is not clear what your eigenproblem solver will give for the eigenvectors. Try to find a relationship between your computed eigenvectors with the eigenvalue −3 and these two linearly independent ones."
   ]
  },
  {
   "cell_type": "code",
   "execution_count": 3,
   "metadata": {},
   "outputs": [
    {
     "name": "stdout",
     "output_type": "stream",
     "text": [
      "v_2 = [-0.9526  0.2722 -0.1361]\n",
      "0.609 * x_2 + -0.430 * x_3 = [-0.9526  0.2722 -0.1361]\n",
      "v_3 = [ 0.0516  0.8229  0.5658]\n",
      "1.840 * x_2 +  1.789 * x_3 = [ 0.0516  0.8229  0.5658]\n"
     ]
    }
   ],
   "source": [
    "# two linearly independent eigenvectors\n",
    "x_2 = 1 / sqrt(5) * array([-2, 1, 0])\n",
    "x_3 = 1 / sqrt(10) * array([3, 0, 1])\n",
    "\n",
    "# two computed degenerate eigenvectors\n",
    "v_2 = V[:, 0]\n",
    "v_3 = V[:, 2]\n",
    "\n",
    "# the coefficients of the linear combination of x_2 and x_3\n",
    "c_2 = linalg.inv(array([x_2[:2], x_3[:2]]).T)@v_2[:2]\n",
    "c_3 = linalg.inv(array([x_2[:2], x_3[:2]]).T)@v_3[:2]\n",
    "\n",
    "# verify the result\n",
    "lin_comb_2 = c_2[0]*x_2 + c_2[1]*x_3\n",
    "print('v_2 =', v_2)\n",
    "print('{:5.3f} * x_2 + {:6.3f} * x_3 = {}'.format(c_2[0], c_2[1], lin_comb_2))\n",
    "\n",
    "lin_comb_3 = c_3[0]*x_2 + c_3[1]*x_3\n",
    "print('v_3 =', v_3)\n",
    "print('{:5.3f} * x_2 + {:6.3f} * x_3 = {}'.format(c_3[0], c_3[1], lin_comb_3))"
   ]
  },
  {
   "cell_type": "markdown",
   "metadata": {},
   "source": [
    "So\n",
    "$$\n",
    "\\begin{gathered}\n",
    "v_2 = 0.609 x_2 - 0.430 x_3\\\\\n",
    "v_3 = 1.840 x_2 + 1.789 x_3\n",
    "\\end{gathered}\n",
    "$$"
   ]
  },
  {
   "cell_type": "markdown",
   "metadata": {},
   "source": [
    "#### 2. Please fit the Millikan data (as shown in the table) directly to a linear function\n",
    "$$\n",
    "q_k=ke\\pm\\Delta q_k\n",
    "$$\n",
    "#### and analyze the accuracy of the approximation. Assume that"
   ]
  },
  {
   "cell_type": "markdown",
   "metadata": {},
   "source": [
    "#### (1) the error bars $\\Delta {q_k}$ in the experimental measurements is a constant as $\\Delta q$."
   ]
  },
  {
   "cell_type": "markdown",
   "metadata": {},
   "source": [
    "In order to minimize $S = \\sum_{k=1}^N (q_k-ke)^2$, the coefficient \n",
    "$$\n",
    "e=\\frac{\\sum_k k q_k}{\\sum_k k^2}\n",
    "$$"
   ]
  },
  {
   "cell_type": "code",
   "execution_count": 4,
   "metadata": {},
   "outputs": [
    {
     "name": "stdout",
     "output_type": "stream",
     "text": [
      "e = 1.6405260143198093\n",
      "S = 0.005460332219570536\n",
      "sigma = 0.019749018455845445\n"
     ]
    },
    {
     "data": {
      "image/png": "[encoded data removed]",
      "text/plain": [
       "<Figure size 432x288 with 1 Axes>"
      ]
     },
     "metadata": {
      "needs_background": "light"
     },
     "output_type": "display_data"
    }
   ],
   "source": [
    "import numpy as np\n",
    "import matplotlib.pyplot as plt\n",
    "%matplotlib inline\n",
    "\n",
    "# fit to q_k = ke\n",
    "def fit(k, q_k):\n",
    "    return sum(k*q_k) / sum(k**2)\n",
    "\n",
    "# the data\n",
    "k=np.array([4,5,6,7,8,9,10,11,12,13,14,15,16,17,18])\n",
    "q_k=np.array([6.558,8.206,9.880,11.50,13.14,14.82,16.40,18.04,19.68,21.32,22.96,24.60,26.24,27.88,29.52])\n",
    "\n",
    "e = fit(k, q_k)  # fitting\n",
    "print('e =', e)\n",
    "S = sum((q_k-k*e)**2)  # residuals\n",
    "print('S =', S)\n",
    "sigma = np.sqrt(S / (len(k) - 1))  # standard deviation\n",
    "print('sigma =',sigma)\n",
    "\n",
    "dq = sigma * np.ones(len(k))  # the error bars\n",
    "\n",
    "# plotting\n",
    "plt.title(r'Fit the Millikan data into $q_k=ke$ (constant $\\Delta q_k$)')\n",
    "plt.xlabel('k')\n",
    "plt.ylabel(r'$q_k$')\n",
    "k_f = np.arange(3,20,1)\n",
    "plt.plot(k_f, k_f*e)\n",
    "plt.errorbar(k, q_k, yerr=dq, fmt='o')\n",
    "plt.show()"
   ]
  },
  {
   "cell_type": "markdown",
   "metadata": {},
   "source": [
    "The fitting result indicates that $e\\approx 1.6\\times 10^{-19}\\ {\\rm C}$. The standard deviation $\\sigma\\approx 0.0197$ is small and we can see from the plot that the fitted line accords closely with the data points."
   ]
  },
  {
   "cell_type": "markdown",
   "metadata": {},
   "source": [
    "#### (2) Different $\\Delta {q_k}$ with $\\left\\vert\\Delta {q_k}\\right\\vert= 0.05q_k$."
   ]
  },
  {
   "cell_type": "markdown",
   "metadata": {},
   "source": [
    "In order to minimize $\\chi^2 = \\sum_{k=1}^N \\left(\\frac{q_k-ke}{\\Delta q_k}\\right)^2$, the coefficient \n",
    "$$\n",
    "e=\\frac{\\sum_k \\frac{k q_k}{\\Delta q_k^2}}{\\sum_k \\frac{k^2}{\\Delta q_k^2}}\n",
    "$$"
   ]
  },
  {
   "cell_type": "code",
   "execution_count": 5,
   "metadata": {},
   "outputs": [
    {
     "name": "stdout",
     "output_type": "stream",
     "text": [
      "e = 1.6413 +- 0.0004\n",
      "S = 0.0066710815615841045\n",
      "sigma = 0.021829013395649285\n",
      "chi2 = 0.011815550240820608\n"
     ]
    },
    {
     "data": {
      "image/png": "[encoded data removed]",
      "text/plain": [
       "<Figure size 432x288 with 1 Axes>"
      ]
     },
     "metadata": {
      "needs_background": "light"
     },
     "output_type": "display_data"
    }
   ],
   "source": [
    "import numpy as np\n",
    "import matplotlib.pyplot as plt\n",
    "%matplotlib inline\n",
    "\n",
    "# fit into q_k = ke with weights\n",
    "def fit_w(k, q_k, dq):\n",
    "    e = sum(k*q_k / dq**2) / sum(k**2 / dq**2)\n",
    "    de = 1 / sum(k**2 / dq**2)\n",
    "    return e, de\n",
    "\n",
    "# the data\n",
    "k=np.array([4,5,6,7,8,9,10,11,12,13,14,15,16,17,18])\n",
    "q_k=np.array([6.558,8.206,9.880,11.50,13.14,14.82,16.40,18.04,19.68,21.32,22.96,24.60,26.24,27.88,29.52])\n",
    "\n",
    "dq = 0.05 * q_k  # the error bars\n",
    "\n",
    "e, de = fit_w(k, q_k, dq)  # fitting\n",
    "print('e = %6.4f +- %6.4f' % (e, de))\n",
    "S = sum((q_k-k*e)**2)  # residuals\n",
    "print('S =', S)\n",
    "sigma = np.sqrt(S / (len(k) - 1))  # standard deviation\n",
    "print('sigma =', sigma)\n",
    "chi2 = (((q_k-k*e) / dq)**2).sum()  # chi square\n",
    "print('chi2 =',chi2)\n",
    "\n",
    "# plotting\n",
    "plt.title(r'Fit the Millikan data into $q_k=ke$ (different $\\Delta q_k$)')\n",
    "plt.xlabel('k')\n",
    "plt.ylabel(r'$q_k$')\n",
    "k_f = np.arange(3,20,1)\n",
    "plt.plot(k_f, k_f*e)\n",
    "plt.errorbar(k,q_k,yerr=dq,fmt='o')\n",
    "plt.show()"
   ]
  },
  {
   "cell_type": "markdown",
   "metadata": {},
   "source": [
    "The fitting result indicates that $e\\approx 1.6\\times 10^{-19}\\ {\\rm C}$. The standard deviation $\\sigma\\approx 0.0218$ and $\\chi^2\\approx 0.0118$ are small and we can see from the plot that the fitted line accords closely with the data points."
   ]
  },
  {
   "cell_type": "markdown",
   "metadata": {},
   "source": [
    "#### 3. Derive the linearization form for each of the following functions:\n",
    "$$\n",
    "\\begin{array}{llll}(1) &y=\\dfrac{A}{x}+B  &    (2) &y=\\dfrac{D}{x+C}\\\\(3) &y=\\dfrac{1}{Ax+B} &    (4) &y=\\dfrac{x}{A+Bx}\\\\(5) &y=A\\ln x+B &      (6)& y=Cx^{A}\\\\(7) &y=\\left( Ax+B\\right) ^{-2} &   (8) & y=Cxe^{-Dx}\\end{array}\n",
    "$$"
   ]
  },
  {
   "cell_type": "markdown",
   "metadata": {},
   "source": [
    "**Answer**:\n",
    "\n",
    "(1) $Y=y,\\ X=\\dfrac{1}{x}\\ \\Longrightarrow\\ Y=AX+B\\qquad$(2) $Y=\\dfrac{1}{y},\\ X=x\\ \\Longrightarrow\\ Y=\\dfrac{X+C}{D}$\n",
    "\n",
    "(3) $Y=\\dfrac{1}{y},\\ X=x\\ \\Longrightarrow\\ Y=AX+B\\qquad$(4) $Y=\\dfrac{1}{y},\\ X=\\dfrac{1}{x}\\ \\Longrightarrow\\ Y=AX+B$\n",
    "\n",
    "(5) $Y=y,\\ X=\\ln x\\ \\Longrightarrow\\ Y=AX+B\\qquad$(6) $Y=y,\\ X=x^A\\ \\Longrightarrow\\ Y=CX$\n",
    "\n",
    "(7) $Y=y^2,\\ X=x\\ \\Longrightarrow\\ Y=AX+B\\qquad$(8) $Y=\\ln\\dfrac{y}{x},\\ X=x\\ \\Longrightarrow\\ Y=-DX+\\ln C$"
   ]
  },
  {
   "cell_type": "markdown",
   "metadata": {},
   "source": [
    "#### 4. In 1929 Edwin Hubble examined the data in the table relating the radial velocity $v$ of 24 extra galactic nebulae to their distance $r$ from our galaxy. Although there was considerable scatter in the data, he fit them with a straight line:\n",
    "$$\n",
    "v = Hr\n",
    "$$\n",
    "#### where $H$ is now called the Hubble constant. "
   ]
  },
  {
   "cell_type": "markdown",
   "metadata": {},
   "source": [
    "#### (1) Plot the data to verify the appropriateness of a linear relation\n",
    "$$\n",
    "    v(r) \\approx a + Hr\n",
    "$$\n"
   ]
  },
  {
   "cell_type": "code",
   "execution_count": 6,
   "metadata": {},
   "outputs": [
    {
     "data": {
      "image/png": "[encoded data removed]",
      "text/plain": [
       "<Figure size 432x288 with 1 Axes>"
      ]
     },
     "metadata": {
      "needs_background": "light"
     },
     "output_type": "display_data"
    }
   ],
   "source": [
    "import numpy as np\n",
    "import matplotlib.pyplot as plt\n",
    "%matplotlib inline\n",
    "\n",
    "r=np.array([0.032,0.9,0.9,0.275,1.1,0.9,0.214,0.263,1.1,0.45,0.034,\\\n",
    "            2.0,1.0,0.275,1.4,0.5,2.0,0.8,1.7,0.63,2.0,0.5,2.0,0.9])\n",
    "v=np.array([170,150,500,-185,500,650,-130,-70,450,200,290,1090,\\\n",
    "              920,-220,500,290,500,300,960,200,800,270,850,-30])\n",
    "\n",
    "plt.title('The data points')\n",
    "plt.xlabel('r')\n",
    "plt.ylabel('v')\n",
    "plt.scatter(r,v)\n",
    "plt.show()"
   ]
  },
  {
   "cell_type": "markdown",
   "metadata": {},
   "source": [
    "Seeing from the plot, the data points roughly fluctuate about a straight line."
   ]
  },
  {
   "cell_type": "markdown",
   "metadata": {},
   "source": [
    "#### (2) Deduce a value for the error $\\sigma_i$ for each point as how much the histogram values appear to fluctuate about a smooth curve."
   ]
  },
  {
   "cell_type": "markdown",
   "metadata": {},
   "source": [
    "Roughly looking at the distribution of the 24 data points, we assume that the average error for each point is about $225$. That is to say,\n",
    "$$\n",
    "\\sigma_i \\equiv \\sigma = 225\n",
    "$$\n",
    "or\n",
    "$$\n",
    "\\Delta v_i\\equiv\\Delta v=225\n",
    "$$"
   ]
  },
  {
   "cell_type": "markdown",
   "metadata": {},
   "source": [
    "#### (3) Compute a least-squares straight-line fit to these data."
   ]
  },
  {
   "cell_type": "code",
   "execution_count": 7,
   "metadata": {
    "scrolled": true
   },
   "outputs": [
    {
     "name": "stdout",
     "output_type": "stream",
     "text": [
      "Fit into v = a + H*r:\n",
      "H = 454 +- 72\n",
      "a = -40 +- 80\n",
      "The reduced chi square = 1.07\n"
     ]
    }
   ],
   "source": [
    "# data\n",
    "r=np.array([0.032,0.9,0.9,0.275,1.1,0.9,0.214,0.263,1.1,0.45,0.034,\\\n",
    "            2.0,1.0,0.275,1.4,0.5,2.0,0.8,1.7,0.63,2.0,0.5,2.0,0.9])\n",
    "v=np.array([170,150,500,-185,500,650,-130,-70,450,200,290,1090,\\\n",
    "              920,-220,500,290,500,300,960,200,800,270,850,-30])\n",
    "\n",
    "# fit into y=Ax+B\n",
    "def LineFitWt(x, y, dy):\n",
    "    dy2 = dy ** 2\n",
    "    norm = (1. / dy2).sum()\n",
    "    xhat = (x / dy2).sum() / norm\n",
    "    yhat = (y / dy2).sum() / norm\n",
    "    slope = ((x - xhat) * y / dy2).sum() / ((x - xhat) * x / dy2).sum()\n",
    "    yint = yhat - slope * xhat\n",
    "    dy2_slope = 1. / ((x - xhat) * x / dy2).sum()\n",
    "    dy2_yint = dy2_slope * (x * x / dy2).sum() / norm\n",
    "    return slope, yint, np.sqrt(dy2_slope), np.sqrt(dy2_yint)\n",
    "\n",
    "# calculate the reduced chi square\n",
    "def redchisq(x, y, dy, slope, yint):\n",
    "    chisq = (((y - yint - slope * x) / dy) ** 2).sum()\n",
    "    return chisq / float(x.size - 2)\n",
    "\n",
    "dv = 225 * np.ones(len(v))  # the error dv=225\n",
    "H, a, dH, da = LineFitWt(r, v, dv)  # fit to a line\n",
    "redchi2 = redchisq(r, v, dv, H, a)  # reduced chi^2\n",
    "\n",
    "print('Fit into v = a + H*r:')\n",
    "print('H = %d +- %d' % (H, dH))\n",
    "print('a = %d +- %d' % (a, da))\n",
    "print('The reduced chi square = %4.2f' % redchi2)"
   ]
  },
  {
   "cell_type": "markdown",
   "metadata": {},
   "source": [
    "#### (4) Plot your fit on the curve with the data."
   ]
  },
  {
   "cell_type": "code",
   "execution_count": 8,
   "metadata": {},
   "outputs": [
    {
     "data": {
      "image/png": "[encoded data removed]",
      "text/plain": [
       "<Figure size 432x288 with 1 Axes>"
      ]
     },
     "metadata": {
      "needs_background": "light"
     },
     "output_type": "display_data"
    }
   ],
   "source": [
    "plt.title(r'Fit into $v=a+Hr$')\n",
    "plt.xlabel('r')\n",
    "plt.ylabel('v')\n",
    "plt.scatter(r,v)\n",
    "r_f = np.linspace(0, 2.5, 100)\n",
    "plt.plot(r_f, a + H * r_f)\n",
    "plt.errorbar(r, v, yerr=dv, fmt = 'o')\n",
    "plt.text(0,1250, r'$H=%d\\pm %d$' % (H, dH))\n",
    "plt.text(0,1100, r'$a=%d\\pm %d$' % (a, da))\n",
    "plt.text(0, 950, r'$\\chi^2_r=%4.2f$' % redchi2)\n",
    "plt.show()"
   ]
  },
  {
   "cell_type": "markdown",
   "metadata": {},
   "source": [
    "#### (5) After fitting the data, compute the variance and verify that approximately     one-third of the points miss the $\\sigma$ error band (that’s what is expected for a random distribution of errors)."
   ]
  },
  {
   "cell_type": "code",
   "execution_count": 9,
   "metadata": {},
   "outputs": [
    {
     "name": "stdout",
     "output_type": "stream",
     "text": [
      "Number of points missing the error band is 8\n"
     ]
    }
   ],
   "source": [
    "var = abs(a + H * r - v)  # the variance\n",
    "\n",
    "# judge if the variance is larger than the error\n",
    "judger = var > dv\n",
    "\n",
    "# count the number of such points\n",
    "count = np.sum(judger == True)\n",
    "\n",
    "print('Number of points missing the error band is', count)"
   ]
  },
  {
   "cell_type": "markdown",
   "metadata": {},
   "source": [
    "The total number of data points is 24, and the number of points missing the error band is 8. This is coincidentally $\\dfrac{1}{3}$."
   ]
  },
  {
   "cell_type": "markdown",
   "metadata": {},
   "source": [
    "#### (6) Determine the $\\chi^2$ of the fit and comment on its value."
   ]
  },
  {
   "cell_type": "code",
   "execution_count": 10,
   "metadata": {},
   "outputs": [
    {
     "name": "stdout",
     "output_type": "stream",
     "text": [
      "chi square = 23.574170\n"
     ]
    }
   ],
   "source": [
    "chisq = (((v - a - H * r) / dv) ** 2).sum()\n",
    "print('chi square = %f' % chisq)"
   ]
  },
  {
   "cell_type": "markdown",
   "metadata": {},
   "source": [
    "The degree of freedom is $N-m=24-2=22$, which agrees with $\\chi^2\\approx 23.6$, indicating a good fit."
   ]
  },
  {
   "cell_type": "markdown",
   "metadata": {},
   "source": [
    "#### 5. Measurements of thermal conductivity, $\\kappa$(W/mK) , of silicon at various temperatures, $T (K)$, are given as follows:\n",
    "| $\\ $ | $\\ $ | $\\ $ | $\\ $ | $\\ $ | $\\ $ | $\\ $ | $\\ $ | $\\ $ |\n",
    "| --------------- | ---- | ---- | ---- | ---- | ---- | ---- | ---- | ---- |\n",
    "| $T$ (K)       | 50  | 100  | 150  | 200  | 400  | 600  | 800  | 1000 |\n",
    "| $\\kappa$ (W/mK) | 28   | 9.1  | 4.0  | 2.7  | 1.1  | 0.6  | 0.4  | 0.3  |\n",
    "\n",
    "#### The data is to be fitted with a function of the form $\\kappa=f(T)$. Determine which of the nonlinear equations: power function, exponential function, saturation function, can best fit the data and determine its parameters. Make a plot that shows the data points and the theoretical values."
   ]
  },
  {
   "cell_type": "code",
   "execution_count": 11,
   "metadata": {},
   "outputs": [],
   "source": [
    "import numpy as np\n",
    "import matplotlib.pyplot as plt\n",
    "%matplotlib inline\n",
    "\n",
    "T = np.array([50, 100, 150, 200, 400, 600, 800, 1000])\n",
    "k = np.array([28, 9.1, 4.0, 2.7, 1.1, 0.6, 0.4, 0.3])\n",
    "\n",
    "# fit into y=Ax+B\n",
    "def lineFit(x, y):\n",
    "    xavg = x.mean()\n",
    "    slope = (y * (x-xavg)).sum()/(x * (x-xavg)).sum()\n",
    "    yint = y.mean() - slope*xavg\n",
    "    return slope, yint\n",
    "\n",
    "# show the standard deviation of the fit\n",
    "def show_std(T, k, k_f):\n",
    "    S = sum((k-k_f(T))**2)\n",
    "    print('sigma =', np.sqrt(S / (len(T) - 2)))\n",
    "\n",
    "# plot the data points and the fitted curve\n",
    "def draw(T, k, k_f):\n",
    "    T_f = np.linspace(40, 1100, 1000)\n",
    "    plt.plot(T_f, k_f(T_f))\n",
    "    plt.scatter(T, k)\n",
    "    plt.show()"
   ]
  },
  {
   "cell_type": "markdown",
   "metadata": {},
   "source": [
    "1. Saturation function $\\kappa=\\dfrac{a}{T}+b$\n",
    "\n",
    "  $Y=\\kappa,\\ X=\\dfrac{1}{T}\\ \\Longrightarrow\\ Y=AX+B$.\n",
    "  \n",
    "  $a=A,\\ b=B\\ \\Longrightarrow\\ \\kappa=\\dfrac{A}{T}+B$."
   ]
  },
  {
   "cell_type": "code",
   "execution_count": 12,
   "metadata": {},
   "outputs": [
    {
     "name": "stdout",
     "output_type": "stream",
     "text": [
      "a = 1431.462177080639\n",
      "b = -2.828684126828424\n",
      "sigma = 2.1100202353500888\n"
     ]
    },
    {
     "data": {
      "image/png": "[encoded data removed]",
      "text/plain": [
       "<Figure size 432x288 with 1 Axes>"
      ]
     },
     "metadata": {
      "needs_background": "light"
     },
     "output_type": "display_data"
    }
   ],
   "source": [
    "T = np.array([50, 100, 150, 200, 400, 600, 800, 1000])\n",
    "k = np.array([28, 9.1, 4.0, 2.7, 1.1, 0.6, 0.4, 0.3])\n",
    "\n",
    "Y = k\n",
    "X = 1 / T\n",
    "A, B = lineFit(X, Y)  # fitting\n",
    "\n",
    "k_f = lambda T_f: A / T_f + B  # the fitted function\n",
    "\n",
    "a, b = A, B  # the parameters\n",
    "print('a =', a)\n",
    "print('b =', b)\n",
    "\n",
    "show_std(T, k, k_f)\n",
    "\n",
    "draw(T, k, k_f)"
   ]
  },
  {
   "cell_type": "markdown",
   "metadata": {},
   "source": [
    "2. Exponential function $\\kappa=ae^{bT}$\n",
    "\n",
    "  $Y=\\ln\\kappa,\\ X=T\\ \\Longrightarrow\\ Y=AX+B$.\n",
    "  \n",
    "  $b=A,\\ a=e^B\\ \\Longrightarrow\\ \\kappa=e^{B+AT}$."
   ]
  },
  {
   "cell_type": "code",
   "execution_count": 13,
   "metadata": {},
   "outputs": [
    {
     "name": "stdout",
     "output_type": "stream",
     "text": [
      "a = 10.890297226112285\n",
      "b = -0.004157191443284056\n",
      "sigma = 7.948847257320755\n"
     ]
    },
    {
     "data": {
      "image/png": "[encoded data removed]",
      "text/plain": [
       "<Figure size 432x288 with 1 Axes>"
      ]
     },
     "metadata": {
      "needs_background": "light"
     },
     "output_type": "display_data"
    }
   ],
   "source": [
    "T = np.array([50, 100, 150, 200, 400, 600, 800, 1000])\n",
    "k = np.array([28, 9.1, 4.0, 2.7, 1.1, 0.6, 0.4, 0.3])\n",
    "\n",
    "Y = np.log(k)\n",
    "X = T\n",
    "A, B = lineFit(X, Y)  # fitting\n",
    "\n",
    "k_f = lambda T_f: np.exp(B + A * T_f)  # the fitted function\n",
    "\n",
    "a, b = np.exp(B), A  # the parameters\n",
    "print('a =', a)\n",
    "print('b =', b)\n",
    "\n",
    "show_std(T, k, k_f)\n",
    "\n",
    "draw(T, k, k_f)"
   ]
  },
  {
   "cell_type": "markdown",
   "metadata": {},
   "source": [
    "3. Power function $\\kappa=aT^b$.\n",
    "\n",
    "  $y=\\ln\\kappa,\\ X=\\ln T\\ \\Longrightarrow\\ Y=AX+B$.\n",
    "  \n",
    "  $a=e^B,\\ b=A\\ \\Longrightarrow\\ \\kappa=e^B T^A$."
   ]
  },
  {
   "cell_type": "code",
   "execution_count": 14,
   "metadata": {},
   "outputs": [
    {
     "name": "stdout",
     "output_type": "stream",
     "text": [
      "a = 8441.641522899816\n",
      "b = -1.494037745708517\n",
      "sigma = 1.5020738373400964\n"
     ]
    },
    {
     "data": {
      "image/png": "[encoded data removed]",
      "text/plain": [
       "<Figure size 432x288 with 1 Axes>"
      ]
     },
     "metadata": {
      "needs_background": "light"
     },
     "output_type": "display_data"
    }
   ],
   "source": [
    "T = np.array([50, 100, 150, 200, 400, 600, 800, 1000])\n",
    "k = np.array([28, 9.1, 4.0, 2.7, 1.1, 0.6, 0.4, 0.3])\n",
    "\n",
    "Y = np.log(k)\n",
    "X = np.log(T)\n",
    "A, B = lineFit(X, Y)\n",
    "\n",
    "k_f = lambda T_f: np.exp(B) * pow(T_f, A)  # the fitted function\n",
    "\n",
    "a, b = np.exp(B), A  # the parameters\n",
    "print('a =', a)\n",
    "print('b =', b)\n",
    "\n",
    "show_std(T, k, k_f)\n",
    "\n",
    "draw(T, k, k_f)"
   ]
  },
  {
   "cell_type": "markdown",
   "metadata": {},
   "source": [
    "It seems that power function can best fit the data because its standard deviation $\\sigma$ is the least of all.\n",
    "\n",
    "However, this is *incorrect*. According to knowledge of solid state physics, the thermal conductivity at high temperature is proportional to $\\dfrac{1}{T}$. We fetch the data points with temperature higher than $200\\,K$ and fit them again into saturation function $$\n",
    "\\kappa=\\dfrac{a}{T}+b\n",
    "$$"
   ]
  },
  {
   "cell_type": "code",
   "execution_count": 15,
   "metadata": {},
   "outputs": [
    {
     "name": "stdout",
     "output_type": "stream",
     "text": [
      "a = 608.7117212249208\n",
      "b = -0.3698917634635688\n",
      "sigma = 0.055381782667775804\n"
     ]
    },
    {
     "data": {
      "image/png": "[encoded data removed]",
      "text/plain": [
       "<Figure size 432x288 with 1 Axes>"
      ]
     },
     "metadata": {
      "needs_background": "light"
     },
     "output_type": "display_data"
    }
   ],
   "source": [
    "T = np.array([ 200, 400, 600, 800, 1000])\n",
    "k = np.array([ 2.7, 1.1, 0.6, 0.4, 0.3])\n",
    "\n",
    "Y = k\n",
    "X = 1 / T\n",
    "A, B = lineFit(X, Y)  # fitting\n",
    "\n",
    "k_f = lambda T_f: A / T_f + B  # the fitted function\n",
    "\n",
    "a, b = A, B  # the parameters\n",
    "print('a =', a)\n",
    "print('b =', b)\n",
    "\n",
    "show_std(T, k, k_f)\n",
    "\n",
    "T_f = np.linspace(150, 1100, 1000)\n",
    "plt.plot(T_f, k_f(T_f))\n",
    "plt.scatter(T, k)\n",
    "plt.show()"
   ]
  },
  {
   "cell_type": "markdown",
   "metadata": {},
   "source": [
    "Now the standard deviation $\\sigma$ becomes much smaller than before."
   ]
  }
 ],
 "metadata": {
  "kernelspec": {
   "display_name": "Python 3",
   "language": "python",
   "name": "python3"
  },
  "language_info": {
   "codemirror_mode": {
    "name": "ipython",
    "version": 3
   },
   "file_extension": ".py",
   "mimetype": "text/x-python",
   "name": "python",
   "nbconvert_exporter": "python",
   "pygments_lexer": "ipython3",
   "version": "3.7.2"
  }
 },
 "nbformat": 4,
 "nbformat_minor": 2
}
