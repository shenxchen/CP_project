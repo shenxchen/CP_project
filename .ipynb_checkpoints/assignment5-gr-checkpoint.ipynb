{
 "cells": [
  {
   "cell_type": "markdown",
   "metadata": {},
   "source": [
    "# Assignment Week 5\n",
    "## Group Assignment (Group 10)"
   ]
  },
  {
   "cell_type": "markdown",
   "metadata": {},
   "source": [
    "#### 1. Consider the fixed-point iteration described by\n",
    "$$\n",
    "\\begin{aligned}\n",
    "x_{n+1}= g( x_n)=\\frac{1}{2}\\left(x_n+\\frac{a^2}{x_n}\\right)\n",
    "\\end{aligned}\n",
    "$$\n",
    "#### Show that the iteration converges to $a$ for any initial point $x_1 > 0$, and that the convergence is quadratic."
   ]
  },
  {
   "cell_type": "markdown",
   "metadata": {},
   "source": [
    "**Answer**:\n",
    "$$\n",
    "\\begin{gathered}\n",
    "g(x)=\\frac{1}{2}\\left(x+\\frac{a^2}{x}\\right)\\\\\n",
    "g'(x)=\\frac{1}{2}\\left(1-\\frac{a^2}{x^2}\\right)\\Rightarrow g'(a)=0\\\\\n",
    "g''(x)=\\frac{a^2}{x^3}\\Rightarrow g''(a)=\\frac{1}{a}\\neq 0\n",
    "\\end{gathered}\n",
    "$$\n",
    "\n",
    "When $x\\in I=\\left[\\dfrac{2}{3}a,+\\infty\\right]$, $g'(x)<1$.\n",
    "\n",
    "$\\forall\\ x_1>0,\\ x_2=g(x_1)=\\dfrac{1}{2}\\left(x_1+\\dfrac{a^2}{x_1}\\right)>a\\Rightarrow x_2\\in I$.\n",
    "\n",
    "And $g(a)=a$, $a\\in I$. So due to **the theorem in Chapter 3 (root)**, $\\{x_n\\}$ must converge to $a$.\n",
    "\n",
    "$$\n",
    "\\begin{gathered}\n",
    "\\frac{x_{n+1}-a}{(x_n-a)^2}=\\frac{g(x_n)-g(a)}{(x_n-a)^2}=\\frac{g''(\\xi_n) (x_n-a)^2}{2(x_n-a)^2}\\quad (a<\\xi_n<x_n)\\\\\n",
    "\\lim_{n\\to \\infty}\\limits\\frac{x_{n+1}-a}{(x_n-a)^2}=\\frac{g''(a)}{2}\\neq 0\n",
    "\\end{gathered}\n",
    "$$\n",
    "\n",
    "Therefore the convergence is quadratic."
   ]
  },
  {
   "cell_type": "markdown",
   "metadata": {},
   "source": [
    "#### 2. A particle of mass $m$ is bound within a 1-D square well of radius $a$\n",
    "$$\n",
    "V\\left(  x\\right)  =\\begin{cases}\n",
    "-V_{0}, & \\text{for }\\left\\vert x\\right\\vert \\leq a,\\\\\n",
    "0, & \\text{for }\\left\\vert x\\right\\vert \\geq a\n",
    "\\end{cases}\n",
    "$$\n",
    "#### Quantum Mechanics shows that the energies of the bound states $E<0$ are solutions of the transcendental equations\n",
    "$$\n",
    "\\begin{aligned}\n",
    "\\sqrt{10+E}\\tan\\left(  \\sqrt{10+E}\\right)    & =\\sqrt{-E}\\;\\left(\n",
    "\\text{even}\\right)  \\\\\n",
    "\\sqrt{10+E}\\cot\\left(  \\sqrt{10+E}\\right)    & =-\\sqrt{-E}\\;\\left(  \\text{odd}\\right)\\end{aligned}\n",
    "$$\n",
    "#### where even and odd refer to the symmetry of the wave function. Here we have chosen units such that $\\hbar=1,$ $2m=1,$ $a=1$, and $V_{0}=10.$"
   ]
  },
  {
   "cell_type": "markdown",
   "metadata": {},
   "source": [
    "#### a) Find several bound-state energies for even wave function.\n",
    "\n",
    "Let $x=\\sqrt{10+E}$, hence the even wave function is $x\\tan(x)-\\sqrt{10-x^2}=0$.\n",
    "\n",
    "Plot the equation to be solved. From the plot we can see two roots which are respectively in the range [0.0,1.5], and [3.150, 3.162]."
   ]
  },
  {
   "cell_type": "code",
   "execution_count": 1,
   "metadata": {},
   "outputs": [
    {
     "data": {
      "image/png": "[encoded data removed]",
      "text/plain": [
       "<Figure size 432x288 with 1 Axes>"
      ]
     },
     "metadata": {
      "needs_background": "light"
     },
     "output_type": "display_data"
    },
    {
     "data": {
      "image/png": "[encoded data removed]",
      "text/plain": [
       "<Figure size 432x288 with 1 Axes>"
      ]
     },
     "metadata": {
      "needs_background": "light"
     },
     "output_type": "display_data"
    }
   ],
   "source": [
    "import matplotlib.pyplot as plt\n",
    "import numpy as np\n",
    "%matplotlib inline\n",
    "\n",
    "y = lambda x: (-np.sqrt(10-x**2)+x*np.tan(x))*np.exp(-x)\n",
    "h = lambda x: 0*x\n",
    "\n",
    "x = np.linspace(0, 1.5, 100)\n",
    "plt.plot(x,y(x))\n",
    "plt.plot(x, h(x), linestyle = '--')\n",
    "plt.show()\n",
    "\n",
    "x = np.linspace(3.150,3.162,100)\n",
    "plt.plot(x,y(x))\n",
    "plt.plot(x, h(x), linestyle = '--')\n",
    "plt.show()"
   ]
  },
  {
   "cell_type": "code",
   "execution_count": 2,
   "metadata": {},
   "outputs": [],
   "source": [
    "# The bisection algorithm\n",
    "import sys\n",
    "import math\n",
    "\n",
    "def bisection(f, x_L, x_R, eps):\n",
    "    f_L = f(x_L)\n",
    "    if f_L*f(x_R) > 0:\n",
    "        print(\"\"\"Error! Function does not have opposite \n",
    "                 signs at interval endpoints!\"\"\")\n",
    "        sys.exit(1)\n",
    "    \n",
    "    x_M = (x_L + x_R)/2.0\n",
    "    f_M = f(x_M)\n",
    "    iteration_counter = 1\n",
    "\n",
    "    while abs(f_M) > eps:\n",
    "        if f_L*f_M > 0:  \n",
    "            x_L = x_M\n",
    "            f_L = f_M\n",
    "        else:\n",
    "            x_R = x_M\n",
    "        \n",
    "        x_M = (x_L + x_R)/2\n",
    "        f_M = f(x_M)\n",
    "        iteration_counter = iteration_counter + 1\n",
    "    \n",
    "    return x_M, iteration_counter\n",
    "\n",
    "\n"
   ]
  },
  {
   "cell_type": "code",
   "execution_count": 3,
   "metadata": {},
   "outputs": [
    {
     "name": "stdout",
     "output_type": "stream",
     "text": [
      "bound-state energy 1 : -8.59279\n",
      "bound-state energy 2: -0.00402\n"
     ]
    }
   ],
   "source": [
    "V0 = 10\n",
    "def f(x):\n",
    "    return x*math.tan(x)-(V0-x**2)**(0.5)\n",
    "\n",
    "solution1, no_iterations = bisection(f, 0, 1.5, eps=1.0e-6)\n",
    "print('bound-state energy 1 : {:.5f}'.format(solution1**2-10))\n",
    "\n",
    "solution2, no_iterations = bisection(f, 3.150, 3.162, eps=1.0e-6)\n",
    "print('bound-state energy 2: {:.5f}'.format(solution2**2-10))"
   ]
  },
  {
   "cell_type": "markdown",
   "metadata": {},
   "source": [
    "#### b) See if making the potential deeper, say, by changing the 10 to a 20, or a 30, produces a larger number of, or deeper bound states. Also make the potential shallower, and see how the energies change. Please make a diagram of the ground state energy versus the depth of the potential."
   ]
  },
  {
   "cell_type": "code",
   "execution_count": 4,
   "metadata": {},
   "outputs": [],
   "source": [
    "Vs = [10]  # store the value of different V0, the depth of potential\n",
    "Es = [solution1**2-10]  # store the value of different E0, the ground energy"
   ]
  },
  {
   "cell_type": "markdown",
   "metadata": {},
   "source": [
    "When $V_{0}=20$, the smallest root is in the range [0.0, 1.4]."
   ]
  },
  {
   "cell_type": "code",
   "execution_count": 5,
   "metadata": {},
   "outputs": [
    {
     "data": {
      "image/png": "[encoded data removed]",
      "text/plain": [
       "<Figure size 432x288 with 1 Axes>"
      ]
     },
     "metadata": {
      "needs_background": "light"
     },
     "output_type": "display_data"
    }
   ],
   "source": [
    "V0 = 20\n",
    "Vs.append(V0)\n",
    "\n",
    "y = lambda x: (-np.sqrt(20-x**2)+x*np.tan(x))*np.exp(-x)\n",
    "h = lambda x: 0*x\n",
    "\n",
    "x = np.linspace(0, 1.4, 100)\n",
    "plt.plot(x,y(x))\n",
    "plt.plot(x, h(x), linestyle = '--')\n",
    "plt.show()"
   ]
  },
  {
   "cell_type": "code",
   "execution_count": 6,
   "metadata": {},
   "outputs": [
    {
     "name": "stdout",
     "output_type": "stream",
     "text": [
      "ground state energy: -8.36052\n"
     ]
    }
   ],
   "source": [
    "solution, no_iterations = bisection(f, 0, 1.4, eps=1.0e-6)\n",
    "Es.append(solution**2-10)\n",
    "print('ground state energy: {:.5f}'.format(solution**2-10))"
   ]
  },
  {
   "cell_type": "markdown",
   "metadata": {},
   "source": [
    "When $V_{0}=30$, the smallest root is in the range [0.0, 1.4]."
   ]
  },
  {
   "cell_type": "code",
   "execution_count": 7,
   "metadata": {
    "scrolled": true
   },
   "outputs": [
    {
     "data": {
      "image/png": "[encoded data removed]",
      "text/plain": [
       "<Figure size 432x288 with 1 Axes>"
      ]
     },
     "metadata": {
      "needs_background": "light"
     },
     "output_type": "display_data"
    }
   ],
   "source": [
    "V0 = 30\n",
    "Vs.append(V0)\n",
    "\n",
    "y = lambda x: (-np.sqrt(30-x**2)+x*np.tan(x))*np.exp(-x)\n",
    "h = lambda x: 0*x\n",
    "\n",
    "x = np.linspace(0, 1.4, 100)\n",
    "plt.plot(x,y(x))\n",
    "plt.plot(x, h(x), linestyle = '--')\n",
    "plt.show()"
   ]
  },
  {
   "cell_type": "code",
   "execution_count": 8,
   "metadata": {},
   "outputs": [
    {
     "name": "stdout",
     "output_type": "stream",
     "text": [
      "ground state energy: -8.24111\n"
     ]
    }
   ],
   "source": [
    "solution, no_iterations = bisection(f, 0, 1.4, eps=1.0e-6)\n",
    "Es.append(solution**2-10)\n",
    "print('ground state energy: {:.5f}'.format(solution**2-10))"
   ]
  },
  {
   "cell_type": "markdown",
   "metadata": {},
   "source": [
    "When $V_{0}=5$, the smallest root is in the range [0.0, 1.4]."
   ]
  },
  {
   "cell_type": "code",
   "execution_count": 9,
   "metadata": {},
   "outputs": [
    {
     "data": {
      "image/png": "[encoded data removed]",
      "text/plain": [
       "<Figure size 432x288 with 1 Axes>"
      ]
     },
     "metadata": {
      "needs_background": "light"
     },
     "output_type": "display_data"
    }
   ],
   "source": [
    "V0 = 5\n",
    "Vs.append(V0)\n",
    "\n",
    "y = lambda x: (-np.sqrt(30-x**2)+x*np.tan(x))*np.exp(-x)\n",
    "h = lambda x: 0*x\n",
    "\n",
    "x = np.linspace(0, 1.4, 100)\n",
    "plt.plot(x,y(x))\n",
    "plt.plot(x, h(x), linestyle = '--')\n",
    "plt.show()"
   ]
  },
  {
   "cell_type": "code",
   "execution_count": 10,
   "metadata": {},
   "outputs": [
    {
     "name": "stdout",
     "output_type": "stream",
     "text": [
      "ground state energy: -8.85250\n"
     ]
    }
   ],
   "source": [
    "solution, no_iterations = bisection(f, 0, 1.4, eps=1.0e-6)\n",
    "Es.append(solution**2-10)\n",
    "print('ground state energy: {:.5f}'.format(solution**2-10))"
   ]
  },
  {
   "cell_type": "markdown",
   "metadata": {},
   "source": [
    "When $V_{0}=1$, the smallest root is in the range [0.0, 1.4]."
   ]
  },
  {
   "cell_type": "code",
   "execution_count": 11,
   "metadata": {},
   "outputs": [
    {
     "data": {
      "image/png": "[encoded data removed]",
      "text/plain": [
       "<Figure size 432x288 with 1 Axes>"
      ]
     },
     "metadata": {
      "needs_background": "light"
     },
     "output_type": "display_data"
    }
   ],
   "source": [
    "V0 = 1\n",
    "Vs.append(V0)\n",
    "\n",
    "y = lambda x: (-np.sqrt(30-x**2)+x*np.tan(x))*np.exp(-x)\n",
    "h = lambda x: 0*x\n",
    "\n",
    "x = np.linspace(0, 1.4, 100)\n",
    "plt.plot(x,y(x))\n",
    "plt.plot(x, h(x), linestyle = '--')\n",
    "plt.show()"
   ]
  },
  {
   "cell_type": "code",
   "execution_count": 12,
   "metadata": {},
   "outputs": [
    {
     "name": "stdout",
     "output_type": "stream",
     "text": [
      "ground state energy: -9.45375\n"
     ]
    }
   ],
   "source": [
    "solution, no_iterations = bisection(f, 0, 1, eps=1.0e-6)\n",
    "Es.append(solution**2-10)\n",
    "print('ground state energy: {:.5f}'.format(solution**2-10))"
   ]
  },
  {
   "cell_type": "markdown",
   "metadata": {},
   "source": [
    "List the values of $V_0$ and $E_0$, and make a scatter plot of them:"
   ]
  },
  {
   "cell_type": "markdown",
   "metadata": {},
   "source": [
    "|$\\quad$$V_{0}$$\\quad$|$\\quad$$E_0$$\\quad$|\n",
    "|:---:|:----:|\n",
    "|1|-9.45375|\n",
    "|5|-8.85250|\n",
    "|10|-8.59279|\n",
    "|20|-8.36052|\n",
    "|30|-8.24111|"
   ]
  },
  {
   "cell_type": "code",
   "execution_count": 13,
   "metadata": {},
   "outputs": [
    {
     "data": {
      "image/png": "[encoded data removed]",
      "text/plain": [
       "<Figure size 432x288 with 1 Axes>"
      ]
     },
     "metadata": {
      "needs_background": "light"
     },
     "output_type": "display_data"
    }
   ],
   "source": [
    "plt.scatter(Vs, Es)\n",
    "plt.show()"
   ]
  },
  {
   "cell_type": "markdown",
   "metadata": {},
   "source": [
    "#### 3. Find the bond length of NaCl using the potential model discussed in the lecture, \n",
    "$$\n",
    "V(r)=-\\frac{e^2}{r}+V_0\\exp(-r/r_0)\n",
    "$$\n",
    "#### Please use $e^2=14.4$ $\\text{Å}\\cdot eV$, $V_0=1.09\\times 10^3 \\text{ eV}$, $r_0=0.330\\text{ Å}$. Write your own program and compare your result with the results from Python package `scipy.optimize`."
   ]
  },
  {
   "cell_type": "markdown",
   "metadata": {},
   "source": [
    "Use Newton-Raphson Algorithm:"
   ]
  },
  {
   "cell_type": "code",
   "execution_count": 14,
   "metadata": {},
   "outputs": [
    {
     "data": {
      "image/png": "[encoded data removed]",
      "text/plain": [
       "<Figure size 432x288 with 1 Axes>"
      ]
     },
     "metadata": {
      "needs_background": "light"
     },
     "output_type": "display_data"
    }
   ],
   "source": [
    "import numpy as np\n",
    "import matplotlib.pyplot as plt\n",
    "%matplotlib inline\n",
    "\n",
    "# the parameters\n",
    "e2 = 14.4\n",
    "V0 = 1.09e3\n",
    "r0 = 0.0330\n",
    "\n",
    "# function V, V'=f and v''=dfdx\n",
    "V = lambda r: -e2 / r + V0 * np.exp(-r / r0)\n",
    "f = lambda r: e2 / r**2 - V0 * np.exp(-r / r0) / r0\n",
    "dfdx = lambda r: -2*e2 / r**3 + V0 * np.exp(-r / r0) / r0**2\n",
    "\n",
    "# minimun with g, g'=f, g''=dfdx, initial x and tolerence eps\n",
    "def minim(g, f, dfdx, x, eps):\n",
    "    f_value = f(x)\n",
    "    g_value = g(x)\n",
    "    count = 0\n",
    "    # newton method\n",
    "    while abs(f_value) > eps and count < 1000:\n",
    "        try:\n",
    "            dx = - f_value/dfdx(x)\n",
    "            x = x + dx\n",
    "        except ZeroDivisionError:\n",
    "            print('Error! - derivative zero for x = ', x)\n",
    "            sys.exit(1) # Abort with error\n",
    "\n",
    "        if g(x) < g_value:\n",
    "            g_value = g(x)\n",
    "            f_value = f(x)\n",
    "            count += 1\n",
    "        else:\n",
    "            dx = -dx\n",
    "    \n",
    "    print('The function has a minimun', g(x), 'at', x)\n",
    "\n",
    "# plot the function V\n",
    "r = np.linspace(0.02, 0.5, 100)\n",
    "plt.plot(r, V(r))\n",
    "plt.show()"
   ]
  },
  {
   "cell_type": "markdown",
   "metadata": {},
   "source": [
    "We can see the function $V$ has a minimun around 0.1, so we set the initial $x=0.1$."
   ]
  },
  {
   "cell_type": "code",
   "execution_count": 15,
   "metadata": {},
   "outputs": [
    {
     "name": "stdout",
     "output_type": "stream",
     "text": [
      "The function has a minimun -92.02930596074631 at 0.10917606756518317\n"
     ]
    }
   ],
   "source": [
    "x = 0.1\n",
    "eps = 1e-10\n",
    "minim(V, f, dfdx, x, eps)"
   ]
  },
  {
   "cell_type": "markdown",
   "metadata": {},
   "source": [
    "So the bond length is about $0.109\\ \\text{Å}$.\n",
    "\n",
    "Then we use the method `minimize` in Python package `scipy.optimize`."
   ]
  },
  {
   "cell_type": "code",
   "execution_count": 16,
   "metadata": {},
   "outputs": [
    {
     "name": "stdout",
     "output_type": "stream",
     "text": [
      "Optimization terminated successfully.\n",
      "V has a minimun -92.02930596074592 at r = 0.10917606020646162\n"
     ]
    }
   ],
   "source": [
    "from scipy.optimize import *\n",
    "\n",
    "# the parameters\n",
    "e2 = 14.4\n",
    "V0 = 1.09e3\n",
    "r0 = 0.0330\n",
    "\n",
    "# function V\n",
    "V = lambda r: -e2 / r + V0 * np.exp(-r / r0)\n",
    "\n",
    "sol = minimize(V, 0.2)  # set the initial x = 0.2\n",
    "print(sol.message)\n",
    "print('V has a minimun', float(sol.fun), 'at r =',float(sol.x))"
   ]
  },
  {
   "cell_type": "markdown",
   "metadata": {},
   "source": [
    "The result is almost the same as the above."
   ]
  },
  {
   "cell_type": "markdown",
   "metadata": {},
   "source": [
    "#### 4. Consider the nonlinear system \n",
    "$$\n",
    "\\begin{cases}\n",
    "2e^x+y=0\\\\\n",
    "3x^2+4y^2=8\n",
    "\\end{cases}\n",
    "$$\n",
    "#### a) Locate the roots graphically.\n",
    "\n",
    "#### b) Based on the location of the roots, find the roots and compare your numerical results with the results from Python package `scipy.optimize`"
   ]
  },
  {
   "cell_type": "code",
   "execution_count": 17,
   "metadata": {},
   "outputs": [],
   "source": [
    "#Implementation of Newton’s method for systems of nonlinear algebraic equations \n",
    "import numpy as np\n",
    "def Newton_system(F, J, x, eps):\n",
    "    \n",
    "    F_value = F(x)\n",
    "    \n",
    "    F_norm = np.linalg.norm(F_value, ord=2) # l2 norm of vector\n",
    "    \n",
    "    iteration_counter = 0\n",
    "    \n",
    "    while abs(F_norm) > eps and iteration_counter < 1000:\n",
    "        delta = np.linalg.solve(J(x), -F_value)    # J(x) delta = -F\n",
    "        x = x + delta\n",
    "        F_value = F(x)\n",
    "        F_norm = np.linalg.norm(F_value, ord=2)\n",
    "        iteration_counter = iteration_counter + 1\n",
    "        \n",
    "    # Here, either a solution is found, or too many iterations\n",
    "    if abs(F_norm) > eps:\n",
    "        iteration_counter = -1\n",
    "    return x, iteration_counter"
   ]
  },
  {
   "cell_type": "code",
   "execution_count": 18,
   "metadata": {},
   "outputs": [],
   "source": [
    "def test_Newton_system():\n",
    "    from numpy import cos, sin, pi, exp\n",
    "    \n",
    "    def F(x):\n",
    "        return np.array(\n",
    "            [2*exp(x[0])+x[1],3*x[0]**2+4*x[1]**2-8])\n",
    "    def J(x):\n",
    "        return np.array(\n",
    "            [[2*exp(x[0]), 1], [6*x[0],8*x[1]]])\n",
    "    \n",
    "    expected = np.array([1, 0])\n",
    "    x, n = Newton_system(F, J, x=np.array([2, -1]), eps=0.0001)\n",
    "    print('x = {}'.format(x[0]))\n",
    "    print('y = {}'.format(x[1]))"
   ]
  },
  {
   "cell_type": "code",
   "execution_count": 19,
   "metadata": {},
   "outputs": [
    {
     "name": "stdout",
     "output_type": "stream",
     "text": [
      "x = -0.3734272049040424\n",
      "y = -1.3767410560514952\n"
     ]
    }
   ],
   "source": [
    "if __name__ == '__main__':\n",
    "    test_Newton_system()"
   ]
  },
  {
   "cell_type": "markdown",
   "metadata": {},
   "source": [
    "Now the method `root` from `scipy.optimize`."
   ]
  },
  {
   "cell_type": "code",
   "execution_count": 20,
   "metadata": {},
   "outputs": [],
   "source": [
    "from scipy.optimize import*\n",
    "from numpy import cos, sin, pi, exp\n",
    "def F(x):\n",
    "    return np.array([2*exp(x[0])+x[1],3*x[0]**2+4*x[1]**2-8])\n",
    "def J(x):\n",
    "    return np.array(\n",
    "            [[2*exp(x[0]), 1], [6*x[0],8*x[1]]])"
   ]
  },
  {
   "cell_type": "code",
   "execution_count": 21,
   "metadata": {},
   "outputs": [
    {
     "name": "stdout",
     "output_type": "stream",
     "text": [
      "[-0.37342874 -1.37674007]\n"
     ]
    }
   ],
   "source": [
    "from scipy import optimize\n",
    "sol = optimize.root(F, [0, 0], jac=J, method='hybr')\n",
    "print(sol.x)"
   ]
  },
  {
   "cell_type": "markdown",
   "metadata": {},
   "source": [
    "My numerical results and results from Python package scipy.optimize are almost equal. The results from Python package scipy.optimize are more accurate."
   ]
  },
  {
   "cell_type": "markdown",
   "metadata": {},
   "source": [
    "#### 5. Consider a linear $2\\times 2$ system (with unknowns $x_1$ and $x_2$) described by its augmented matrix \n",
    "$$\n",
    "\\begin{bmatrix}\\left.\\begin{matrix}\\varepsilon & 1\\\\1 & 1\\end{matrix}\\right\\vert\\begin{matrix}2\\\\1\\end{matrix}\\end{bmatrix}\n",
    "$$\n",
    "#### where $\\epsilon > 0$ is a very small constant."
   ]
  },
  {
   "cell_type": "markdown",
   "metadata": {},
   "source": [
    "#### a) Solve by Gauss elimination without partial pivoting.\n",
    "\n",
    "For example, set $\\varepsilon=0.01$."
   ]
  },
  {
   "cell_type": "code",
   "execution_count": 22,
   "metadata": {},
   "outputs": [
    {
     "name": "stdout",
     "output_type": "stream",
     "text": [
      "x1 = -1.0101010101009944\n",
      "x2 = 2.01010101010101\n"
     ]
    }
   ],
   "source": [
    "import numpy as np\n",
    "\n",
    "eps = 0.01\n",
    "Ab = np.array([[eps, 1, 2], [1, 1, 1]])\n",
    "\n",
    "# reduction\n",
    "Ab[1] = -Ab[0] / Ab[0][0] * Ab[1][0] + Ab[1]\n",
    "Ab[0] = -Ab[1] / Ab[1][1] * Ab[0][1] + Ab[0]\n",
    "\n",
    "# back substitution\n",
    "Ab[0] = Ab[0] / Ab[0][0]\n",
    "Ab[1] = Ab[1] / Ab[1][1]\n",
    "\n",
    "print('x1 =', Ab[0][2])\n",
    "print('x2 =', Ab[1][2])"
   ]
  },
  {
   "cell_type": "markdown",
   "metadata": {},
   "source": [
    "#### b) Solve by Gauss elimination with partial pivoting. Compare the results and discuss their validity."
   ]
  },
  {
   "cell_type": "code",
   "execution_count": 23,
   "metadata": {},
   "outputs": [
    {
     "name": "stdout",
     "output_type": "stream",
     "text": [
      "x1 = -1.01010101010101\n",
      "x2 = 2.01010101010101\n"
     ]
    }
   ],
   "source": [
    "import numpy as np\n",
    "\n",
    "eps = 0.01\n",
    "\n",
    "Ab = np.array([[1, 1, 1], [eps, 1, 2]])\n",
    "\n",
    "# reduction\n",
    "Ab[1] = -Ab[0] / Ab[0][0] * Ab[1][0] + Ab[1]\n",
    "Ab[0] = -Ab[1] / Ab[1][1] * Ab[0][1] + Ab[0]\n",
    "\n",
    "# back substitution\n",
    "Ab[0] = Ab[0] / Ab[0][0]\n",
    "Ab[1] = Ab[1] / Ab[1][1]\n",
    "\n",
    "print('x1 =', Ab[0][2])\n",
    "print('x2 =', Ab[1][2])"
   ]
  },
  {
   "cell_type": "markdown",
   "metadata": {},
   "source": [
    "We can see that the $x_1$ without partial pivoting becomes less accurate at the tail of the decimals, which indicates that Gauss elimination *with* partial pivoting is more valid."
   ]
  },
  {
   "cell_type": "markdown",
   "metadata": {},
   "source": [
    "#### 6. Solve the system of equations $Ax=b$ with a well-behaved matrix\n",
    "$$\n",
    "A_{ii}=n,\\text{ }A_{i\\neq j}=1\n",
    "$$\n",
    "#### by applying \n",
    "\n",
    "#### a) LU decomposition, (Hint: You can use Python module `scipy.linalg.lu_solve`)\n",
    "\n",
    "#### b) Cholesky decomposition, (Hint: You can use Python module `numpy.linalg.cholesky`)\n",
    "\n",
    "#### The right-hand side is $b=A\\begin{pmatrix}\n",
    "1\\\\\n",
    "2\\\\\n",
    "\\vdots\\\\\n",
    "n\n",
    "\\end{pmatrix}$, hence the exact solution is $x=\\begin{pmatrix}\n",
    "1\\\\\n",
    "2\\\\\n",
    "\\vdots\\\\\n",
    "n\n",
    "\\end{pmatrix}$."
   ]
  },
  {
   "cell_type": "markdown",
   "metadata": {},
   "source": [
    "For example, n=3, hence A=[[1,1,1],[1,2,1],[1,1,3]], b=[6,8,12] and the solution needs to be x=[1,2,3]."
   ]
  },
  {
   "cell_type": "code",
   "execution_count": 24,
   "metadata": {},
   "outputs": [
    {
     "name": "stdout",
     "output_type": "stream",
     "text": [
      "[[1. 0. 0.]\n",
      " [1. 1. 0.]\n",
      " [1. 0. 1.]] \n",
      " [[1. 1. 1.]\n",
      " [0. 1. 0.]\n",
      " [0. 0. 2.]]\n",
      "The solution is x= [1. 2. 3.]\n"
     ]
    }
   ],
   "source": [
    "# LU decomposition\n",
    "import numpy as np \n",
    "import scipy as scipy\n",
    "from scipy import linalg\n",
    "def LU_decomposition(A):    \n",
    "    n=len(A[0])    \n",
    "    L = np.zeros([n,n])    \n",
    "    U = np.zeros([n,n])    \n",
    "    for i in range(n):        \n",
    "        L[i][i]=1        \n",
    "        if i==0:            \n",
    "            U[0][0] = A[0][0]            \n",
    "            for j in range(1,n):                \n",
    "                U[0][j]=A[0][j]                \n",
    "                L[j][0]=A[j][0]/U[0][0]        \n",
    "        else:\n",
    "                for j in range(i, n):\n",
    "                    temp=0                    \n",
    "                    for k in range(0, i):                        \n",
    "                        temp = temp+L[i][k] * U[k][j]                    \n",
    "                    U[i][j]=A[i][j]-temp                \n",
    "                for j in range(i+1, n):\n",
    "                    temp = 0        \n",
    "                    for k in range(0, i ):              \n",
    "                        temp = temp + L[j][k] * U[k][i]             \n",
    "                    L[j][i] = (A[j][i] - temp)/U[i][i]\n",
    "    return L,U\n",
    "if __name__ == '__main__':     \n",
    "    A=[[1,1,1],[1,2,1],[1,1,3]]  # matrix A: n=3\n",
    "    b=np.array([6,8,12])\n",
    "    L,U=LU_decomposition(A) \n",
    "    print(L,'\\n',U)\n",
    "    x_1 = np.linalg.solve(L,b)\n",
    "    x_2= np.linalg.solve(U,x_1)\n",
    "    print('The solution is x=',x_2)"
   ]
  },
  {
   "cell_type": "markdown",
   "metadata": {},
   "source": [
    "This time we use Python module `numpy.linalg.cholesky`."
   ]
  },
  {
   "cell_type": "code",
   "execution_count": 25,
   "metadata": {},
   "outputs": [
    {
     "name": "stdout",
     "output_type": "stream",
     "text": [
      "[[1.         0.         0.        ]\n",
      " [1.         1.         0.        ]\n",
      " [1.         0.         1.41421356]] \n",
      " [[1.         1.         1.        ]\n",
      " [0.         1.         0.        ]\n",
      " [0.         0.         1.41421356]]\n",
      "The solution is x= [1. 2. 3.]\n"
     ]
    }
   ],
   "source": [
    "#Cholesky decomposition\n",
    "import numpy as np \n",
    "import scipy as scipy\n",
    "from scipy import linalg\n",
    "b=np.array([6,8,12])\n",
    "A = np.array([[1,1,1],[1,2,1],[1,1,3]])\n",
    "L = np.linalg.cholesky(A)\n",
    "LT = np.transpose(L)\n",
    "print(L,'\\n',LT)\n",
    "x_1 = np.linalg.solve(L,b)\n",
    "x_2= np.linalg.solve(LT,x_1)\n",
    "print('The solution is x=',x_2)"
   ]
  },
  {
   "cell_type": "markdown",
   "metadata": {},
   "source": [
    "#### 7. **Multiple linear regression** generalizes simple linear regression by allowing several predictor variables instead of just one.\n",
    "#### In matrix notation, we have an overdetermined system of equations \n",
    "$$\n",
    "\\mathbf{y=X a}\n",
    "$$\n",
    "\n",
    "#### where\n",
    "$$\n",
    "\\begin{pmatrix}\n",
    "y_{1}\\\\\n",
    "y_{2}\\\\\n",
    "\\vdots\\\\\n",
    "\\\\\n",
    "\\\\\n",
    "y_{n}%\n",
    "\\end{pmatrix}=\\begin{pmatrix}\n",
    "1 & x_{11} & x_{12} & \\cdots & x_{1p}\\\\\n",
    "1 & x_{21} & x_{22} & \\cdots & x_{2p}\\\\\n",
    "\\vdots & \\vdots & \\ddots &  & \\vdots\\\\\n",
    "&  &  &  & \\\\\n",
    "1 &  &  &  & \\\\\n",
    "1 & x_{n1} & x_{n2} & \\cdots & x_{np}%\n",
    "\\end{pmatrix} \\begin{pmatrix}\n",
    "a_{0}\\\\\n",
    "a_{1}\\\\\n",
    "\\vdots\\\\\n",
    "\\\\\n",
    "a_{p}%\n",
    "\\end{pmatrix}\n",
    "$$\n",
    "\n",
    "#### Our goal is to find a vector $\\mathbf{a}$ that minimizes $\\mathbf{Xa-y}$ . A numerically stable algorithm for computing $\\mathbf{a}$ is to compute QR factorization $\\mathbf{X=QR}$, then solve the triangular system $\\mathbf{Ra=Q^{T}y}$ via back substitution.\n",
    "\n",
    "#### The expression $z = ax^{2} +bxy +cy^{2} +dx +ey +f$ is known as a **quadratic form**. The set of points $(x, y)$, where $z = 0$, is a conic section. It can be an ellipse, a parabola, or a hyperbola, depending on the sign of the discriminant $b^{2}-4ac$.\n",
    "\n",
    "#### A planet follows an elliptical orbit. Here are ten observations of its position in the $(x, y)$ plane:\n",
    "\n",
    " ```\n",
    " x = [1.02 .95 .87 .77 .67 .56 .44 .30 .16 .01];\n",
    " y = [0.39 .32 .27 .22 .18 .15 .13 .12 .13 .15];\n",
    " ```"
   ]
  },
  {
   "cell_type": "markdown",
   "metadata": {},
   "source": [
    "#### a) Determine the coefficients in the quadratic form that fits these data in the least squares sense. Plot the orbit with $x$ on the $x$-axis and $y$ on the $y$-axis. Superimpose the ten data points on the plot.\n",
    "\n",
    "We set $f=1$. Then $ax^2+bxy+cy^2+dx+ey=-1$. Solve the matrix equation\n",
    "$$\n",
    "\\begin{pmatrix}\n",
    "-1\\\\\n",
    "-1\\\\\n",
    "\\vdots\\\\\n",
    "\\\\\n",
    "-1\\\\\n",
    "-1%\n",
    "\\end{pmatrix}=\\begin{pmatrix}\n",
    "x_1^2 & x_1 y_1 & y_1^2 & x_1 & y_1\\\\\n",
    "x_2^2 & x_2 y_2 & y_2^2 & x_2 & y_2\\\\\n",
    "\\vdots & \\vdots & \\ddots &  & \\vdots\\\\\n",
    "&  &  &  & \\\\\n",
    "x_9^2 &  &  &  & \\\\\n",
    "x_{10}^2 & x_{10} y_{10} & y_{10}^2 & x_{10} & y_{10}%\n",
    "\\end{pmatrix} \\begin{pmatrix}\n",
    "a\\\\\n",
    "b\\\\\n",
    "\\vdots\\\\\n",
    "\\\\\n",
    "e%\n",
    "\\end{pmatrix}\n",
    "\\quad\n",
    "\\text{or}\n",
    "\\quad\n",
    "\\mathbf{y_s}=\\mathbf{X}\\mathbf{a_s}\n",
    "$$\n",
    "\n",
    "for the coefficients $\\mathbf{a_s}=[a,b,c,d,e]$."
   ]
  },
  {
   "cell_type": "code",
   "execution_count": 26,
   "metadata": {},
   "outputs": [
    {
     "name": "stdout",
     "output_type": "stream",
     "text": [
      "[a b c d e f] = [2.253795 0.006325 5.522183 -1.289810 -7.377354 1.000000]\n"
     ]
    },
    {
     "data": {
      "image/png": "[encoded data removed]",
      "text/plain": [
       "<Figure size 432x288 with 1 Axes>"
      ]
     },
     "metadata": {
      "needs_background": "light"
     },
     "output_type": "display_data"
    }
   ],
   "source": [
    "import numpy as np\n",
    "import matplotlib.pyplot as plt\n",
    "%matplotlib inline\n",
    "\n",
    "# the observations\n",
    "x_ = np.array([1.02, .95, .87, .77, .67, .56, .44, .30, .16, .01])\n",
    "y_ = np.array([0.39, .32, .27, .22, .18, .15, .13, .12, .13, .15])\n",
    "\n",
    "# the matrix X \n",
    "X = np.empty([10,5])\n",
    "for i in range(10):\n",
    "    X[i] = [x_[i]**2, x_[i]*y_[i], y_[i]**2, x_[i], y_[i]]\n",
    "\n",
    "ys = -np.ones(10)  # ys = [-1, -1, ... , -1]\n",
    "\n",
    "Q,R = np.linalg.qr(X)  # QR decomposition\n",
    "\n",
    "# solve R@a_s = Q.T@ys for a_s by back substitution\n",
    "n = len(R)\n",
    "a_s = np.empty(n)\n",
    "\n",
    "bs = Q.T@ys\n",
    "\n",
    "# back substitution\n",
    "a_s[n-1] = bs[n-1] / R[n-1][n-1]\n",
    "for i in range(n-2, -1,-1):\n",
    "    \n",
    "    summ = 0\n",
    "    for k in range(i+1, n):\n",
    "        summ += R[i][k] * a_s[k]\n",
    "    \n",
    "    a_s[i] = (bs[i] - summ) / R[i][i]\n",
    "\n",
    "# the coefficients\n",
    "a, b, c, d, e, f = a_s[0], a_s[1], a_s[2], a_s[3], a_s[4], 1\n",
    "\n",
    "# ellipse equation z = 0\n",
    "z = lambda x, y: a * x**2 + b *  x * y + c * y**2 + d * x + e * y + f\n",
    "\n",
    "# print the coefficients\n",
    "np.set_printoptions(threshold=10, formatter={'float': '{:.6f}'.format})\n",
    "print('[a b c d e f] =', np.append(a_s,1.0))\n",
    "\n",
    "# plot the curve and data points\n",
    "x = np.arange(-0.8, 1.5, 0.1)\n",
    "y = np.arange(0, 1.4, 0.1)\n",
    "x, y = np.meshgrid(x,y)\n",
    "plt.contour(x, y, z(x, y),[0],colors='b')\n",
    "plt.scatter(x_, y_, color='r')\n",
    "plt.axis('scaled')\n",
    "plt.title('The orbit (blue) and the data points (red)')\n",
    "plt.show()"
   ]
  },
  {
   "cell_type": "markdown",
   "metadata": {},
   "source": [
    "#### b) This least squares problem is nearly rank deficient. To see what effect this has on the solution, perturb the data slightly by adding to each coordinate of each data point a random number uniformly distributed in the interval $[-.0005, .0005]$. Compute the new coefficients resulting from the perturbed data. Plot the new orbit on the same plot with the old orbit. Comment on your comparison of the sets of coefficients and the orbits.    "
   ]
  },
  {
   "cell_type": "code",
   "execution_count": 27,
   "metadata": {},
   "outputs": [
    {
     "name": "stdout",
     "output_type": "stream",
     "text": [
      "Without perturbation:\n",
      "[a b c d e f] = [2.253795 0.006325 5.522183 -1.289810 -7.377354 1.000000]\n",
      "With perturbation:\n",
      "[a b c d e f] = [2.247288 0.005930 5.506920 -1.287540 -7.359742 1.000000]\n"
     ]
    },
    {
     "data": {
      "image/png": "[encoded data removed]",
      "text/plain": [
       "<Figure size 432x288 with 1 Axes>"
      ]
     },
     "metadata": {
      "needs_background": "light"
     },
     "output_type": "display_data"
    }
   ],
   "source": [
    "import numpy as np\n",
    "import matplotlib.pyplot as plt\n",
    "import random\n",
    "%matplotlib inline\n",
    "\n",
    "# the observations\n",
    "x_ = np.array([1.02, .95, .87, .77, .67, .56, .44, .30, .16, .01])\n",
    "y_ = np.array([0.39, .32, .27, .22, .18, .15, .13, .12, .13, .15])\n",
    "\n",
    "# add perturbation\n",
    "r = 0.0005*random.random()\n",
    "x_r = x_ + r\n",
    "y_r = y_ + r\n",
    "\n",
    "# the matrix X \n",
    "Xr = np.empty([10,5])\n",
    "for i in range(10):\n",
    "    Xr[i] = [x_r[i]**2, x_r[i]*y_r[i], y_r[i]**2, x_r[i], y_r[i]]\n",
    "\n",
    "ys = -np.ones(10)  # ys = [-1, -1, ... , -1]\n",
    "\n",
    "Q,R = np.linalg.qr(Xr)  # QR decomposition\n",
    "\n",
    "# solve R@a_s = Q.T@ys for a_s by back substitution\n",
    "n = len(R)\n",
    "a_r = np.empty(n)\n",
    "\n",
    "bs = Q.T@ys\n",
    "\n",
    "# back substitution\n",
    "a_r[n-1] = bs[n-1] / R[n-1][n-1]\n",
    "for i in range(n-2, -1,-1):\n",
    "    \n",
    "    summ = 0\n",
    "    for k in range(i+1, n):\n",
    "        summ += R[i][k] * a_r[k]\n",
    "    \n",
    "    a_r[i] = (bs[i] - summ) / R[i][i]\n",
    "\n",
    "# the coefficients\n",
    "ar, br, cr, dr, er, fr = a_r[0], a_r[1], a_r[2], a_r[3], a_r[4], 1\n",
    "\n",
    "# print the coefficients with and without perturbation\n",
    "np.set_printoptions(threshold=10, formatter={'float': '{:.6f}'.format})\n",
    "print('Without perturbation:')\n",
    "print('[a b c d e f] =', np.append(a_s,1.0))\n",
    "print('With perturbation:')\n",
    "print('[a b c d e f] =', np.append(a_r,1.0))\n",
    "\n",
    "# ellipse equation zr = 0\n",
    "zr = lambda x, y: ar * x**2 + br *  x * y + cr * y**2 + dr * x + er * y + fr\n",
    "\n",
    "# plot the curve without and with perturbation\n",
    "x = np.arange(-0.8, 1.5, 0.1)\n",
    "y = np.arange(0, 1.4, 0.1)\n",
    "x, y = np.meshgrid(x,y)\n",
    "plt.contour(x, y, z(x, y),[0],colors='b')\n",
    "plt.contour(x, y, zr(x, y),[0],colors='r')\n",
    "plt.axis('scaled')\n",
    "plt.title('The new orbit (red) versus the old orbit (blue)')\n",
    "plt.show()\n"
   ]
  },
  {
   "cell_type": "markdown",
   "metadata": {},
   "source": [
    "The new coefficients are just slightly different from the old ones and the new orbit is almost the same as the old one. We can learn from this that small deviation of the data doesn't change the result of the regression."
   ]
  },
  {
   "cell_type": "code",
   "execution_count": null,
   "metadata": {},
   "outputs": [],
   "source": []
  }
 ],
 "metadata": {
  "file_extension": ".py",
  "kernelspec": {
   "display_name": "Python 3.7.2 64-bit",
   "language": "python",
   "name": "python37264bit0ca7761084ed445eaf133beb77b590ea"
  },
  "language_info": {
   "codemirror_mode": {
    "name": "ipython",
    "version": 3
   },
   "file_extension": ".py",
   "mimetype": "text/x-python",
   "name": "python",
   "nbconvert_exporter": "python",
   "pygments_lexer": "ipython3",
   "version": "3.7.2"
  },
  "mimetype": "text/x-python",
  "name": "python",
  "npconvert_exporter": "python",
  "pygments_lexer": "ipython3",
  "version": 3
 },
 "nbformat": 4,
 "nbformat_minor": 2
}
