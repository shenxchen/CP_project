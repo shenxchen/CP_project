{
 "cells": [
  {
   "cell_type": "markdown",
   "metadata": {},
   "source": [
    "# Assignment Week 9\n",
    "## Group Assignment (Group 10)"
   ]
  },
  {
   "cell_type": "markdown",
   "metadata": {},
   "source": [
    "#### 1. Let $f(x)=x+2/x$."
   ]
  },
  {
   "cell_type": "markdown",
   "metadata": {},
   "source": [
    "#### (1) Use quadratic Lagrange interpolation based on the nodes $x_{0}=1$, $x_{1}=2$, and $x_{2}=2.5$ to approximate $f(1.5)$ and $f(1.2)$. "
   ]
  },
  {
   "cell_type": "markdown",
   "metadata": {},
   "source": [
    "**Answer**:\n",
    "$$\n",
    "\\begin{aligned}\n",
    "p_2(x)&=\\frac{(x-2)(x-2.5)}{(1-2)(1-2.5)}\\times 3+\\frac{(x-1)(x-2.5)}{(2-1)(2-2.5)}\\times 3+\\frac{(x-1)(x-2)}{(2.5-1)(2.5-2)}\\times 3.3\\\\\n",
    "&=0.4x^2-1.2x+3.8\n",
    "\\end{aligned}\n",
    "$$\n",
    "\n",
    "So\n",
    "$$\n",
    "f(1.5)\\approx p_2(1.5)=2.900\\\\\n",
    "f(1.2)\\approx p_2(1.2)=2.936\n",
    "$$\n",
    "\n",
    "**Script**:"
   ]
  },
  {
   "cell_type": "code",
   "execution_count": 1,
   "metadata": {},
   "outputs": [
    {
     "data": {
      "image/png": "[encoded data removed]",
      "text/plain": [
       "<Figure size 432x288 with 1 Axes>"
      ]
     },
     "metadata": {
      "needs_background": "light"
     },
     "output_type": "display_data"
    },
    {
     "name": "stdout",
     "output_type": "stream",
     "text": [
      "p₂(1.5) = 2.900\n",
      "p₂(1.2) = 2.936\n"
     ]
    }
   ],
   "source": [
    "from numpy import array, dot, linspace\n",
    "import matplotlib.pyplot as plt\n",
    "%matplotlib inline\n",
    "\n",
    "# the i-th Lagrange polynomial with respect to x\n",
    "def lagrange(x, i, xData):\n",
    "    n = len(xData) - 1  # the order of the polynomial\n",
    "    lagrpoly = 1.\n",
    "    for idx in range (n+1):\n",
    "        if idx != i:\n",
    "            lagrpoly *= ( x - xData[idx] ) / ( xData[i] - xData[idx])\n",
    "    return lagrpoly\n",
    "\n",
    "# Lagrange interpolation at x\n",
    "def lagrange_interpolation(x, xData, yData):\n",
    "    n = len(xData) - 1  # the order of the polynomial\n",
    "    lagrpoly = array([lagrange(x, i, xData) for i in range(n+1)])\n",
    "    y = dot(yData, lagrpoly)\n",
    "    return y\n",
    "\n",
    "xData = array([1, 2, 2.5])\n",
    "yData = xData + 2 / xData\n",
    "\n",
    "# plot\n",
    "x = linspace(min(xData), max(xData), 100, endpoint=True)\n",
    "y = lagrange_interpolation(x, xData, yData)\n",
    "plt.title('Quadratic Lagrange Interpolation')\n",
    "plt.xlabel('x')\n",
    "plt.ylabel('y')\n",
    "plt.plot(xData, yData, 'o')\n",
    "plt.plot(x, y)\n",
    "plt.plot(x, x + 2 / x, '--')\n",
    "plt.xlim(0, 2.6)\n",
    "plt.ylim(2.5, 4.6)\n",
    "plt.legend(['Data', 'Lagrange Interpolation', r'$f(x)$'])\n",
    "plt.show()\n",
    "\n",
    "p15 = lagrange_interpolation(1.5, xData, yData)\n",
    "p12 = lagrange_interpolation(1.2, xData, yData)\n",
    "\n",
    "print('p₂(1.5) = %.3f' % p15)\n",
    "print('p₂(1.2) = %.3f' % p12)"
   ]
  },
  {
   "cell_type": "markdown",
   "metadata": {},
   "source": [
    "#### (2) Use cubic Lagrange interpolation based on the nodes $x_{0}=0.5$, $x_{1}=1$, $x_{2}=2$, and $x_{3}=2.5$ to approximate $f(1.5)$ and $f(1.2)$."
   ]
  },
  {
   "cell_type": "code",
   "execution_count": 6,
   "metadata": {},
   "outputs": [
    {
     "name": "stdout",
     "output_type": "stream",
     "text": [
      "p₃(x) = -0.8*x**3 + 4.8*x**2 - 8.8*x + 7.8\n"
     ]
    },
    {
     "data": {
      "text/latex": [
       "$\\displaystyle - 0.8 x^{3} + 4.8 x^{2} - 8.8 x + 7.8$"
      ],
      "text/plain": [
       "-0.8*x**3 + 4.8*x**2 - 8.8*x + 7.8"
      ]
     },
     "execution_count": 6,
     "metadata": {},
     "output_type": "execute_result"
    }
   ],
   "source": [
    "from sympy import simplify\n",
    "from sympy.abc import x\n",
    "\n",
    "p_3=lambda x: (x-1)*(x-2)*(x-2.5)/(0.5-1)/(0.5-2)/(0.5-2.5)*4.5+(x-0.5)*(x-2)*(x-2.5)/(1-0.5)/(1-2)/(1-2.5)\\\n",
    "*3+(x-0.5)*(x-1)*(x-2.5)/(2-0.5)/(2-1)/(2-2.5)*3+(x-0.5)*(x-1)*(x-2)/(2.5-0.5)/(2.5-1)/(2.5-2)*3.3\n",
    "\n",
    "s=simplify(p_3(x))\n",
    "\n",
    "print('p₃(x) =', s)\n",
    "s"
   ]
  },
  {
   "cell_type": "markdown",
   "metadata": {},
   "source": [
    "**Answer**:\n",
    "$$\n",
    "\\begin{aligned}\n",
    "p_3(x)=&\\frac{(x-1)(x-2)(x-2.5)}{(0.5-1)(0.5-2)(0.5-2.5)}\\times 4.5+\\frac{(x-0.5)(x-2)(x-2.5)}{(1-0.5)(1-2)(1-2.5)}\\times 3\\\\\n",
    "&+\\frac{(x-0.5)(x-1)(x-2.5)}{(2-0.5)(2-1)(2-2.5)}\\times 3+\\frac{(x-0.5)(x-1)(x-2)}{(2.5-0.5)(2.5-1)(2.5-2)}\\times 3.3\\\\\n",
    "=&-0.8x^3 + 4.8x^2 - 8.8x + 7.8\n",
    "\\end{aligned}\n",
    "$$\n",
    "\n",
    "So\n",
    "$$\n",
    "f(1.5)\\approx p_3(1.5)=2.700\\\\\n",
    "f(1.2)\\approx p_3(1.2)=2.770\n",
    "$$\n",
    "\n",
    "**Script**:"
   ]
  },
  {
   "cell_type": "code",
   "execution_count": 3,
   "metadata": {},
   "outputs": [
    {
     "data": {
      "image/png": "[encoded data removed]",
      "text/plain": [
       "<Figure size 432x288 with 1 Axes>"
      ]
     },
     "metadata": {
      "needs_background": "light"
     },
     "output_type": "display_data"
    },
    {
     "name": "stdout",
     "output_type": "stream",
     "text": [
      "p₃(1.5) = 2.700\n",
      "p₃(1.2) = 2.770\n"
     ]
    }
   ],
   "source": [
    "xData = array([0.5, 1, 2, 2.5])\n",
    "yData = xData + 2 / xData\n",
    "\n",
    "# plot\n",
    "x = linspace(min(xData), max(xData), 100, endpoint=True)\n",
    "y = lagrange_interpolation(x, xData, yData)\n",
    "plt.title('Cubic Lagrange Interpolation')\n",
    "plt.xlabel('x')\n",
    "plt.ylabel('y')\n",
    "plt.plot(xData, yData, 'o')\n",
    "plt.plot(x,y)\n",
    "plt.plot(x, x + 2 / x, '--')\n",
    "plt.xlim(0, 2.6)\n",
    "plt.ylim(2.5, 4.6)\n",
    "plt.legend(['Data', 'Lagrange Interpolation', r'$f(x)$'])\n",
    "plt.show()\n",
    "\n",
    "p15 = lagrange_interpolation(1.5, xData, yData)\n",
    "p12 = lagrange_interpolation(1.2, xData, yData)\n",
    "\n",
    "print('p₃(1.5) = %.3f' % p15)\n",
    "print('p₃(1.2) = %.3f' % p12)"
   ]
  },
  {
   "cell_type": "markdown",
   "metadata": {},
   "source": [
    "#### (3) Compare the results of (1) and (2), and discuss on it."
   ]
  },
  {
   "cell_type": "markdown",
   "metadata": {},
   "source": [
    "The true value of $f(1.5)$ and $f(1.2)$ are 2.833 and 2.867.\n",
    "$$\n",
    "\\left\\{\n",
    "\\begin{aligned}\n",
    "&\\Delta p_2(1.5)=f(1.5)-p_2(1.5)=-0.067,\\ \\Delta p_2(1.2)=f(1.2)-p_2(1.2)=-0.069\\\\\n",
    "&\\Delta p_3(1.5)=f(1.5)-p_3(1.5)=0.133,\\ \\Delta p_3(1.2)=f(1.2)-p_3(1.2)=0.097\n",
    "\\end{aligned}\n",
    "\\right.\n",
    "$$\n",
    "\n",
    "In this case, quadratic Lagrange interpolation has less error than cubic Lagrange interpolation. The point lies in that the latter doesn't use proper data points. Because the function $f(x)$ is steep when $x<1$, the data points fetched in the range $(0,\\ 1]$ should be more dense than that in the range $[1,\\ 2.5]$. A data point with $x=0.5$ cannot meet this requirement, so it increases the error. We can see this effect from the above plots.\n",
    "\n",
    "If we take $x=0.8$, which is more close to $x=1$ than $x=0.5$, as the additional data point, the error will be much smaller. (see below)"
   ]
  },
  {
   "cell_type": "code",
   "execution_count": 5,
   "metadata": {},
   "outputs": [
    {
     "data": {
      "image/png": "[encoded data removed]",
      "text/plain": [
       "<Figure size 432x288 with 1 Axes>"
      ]
     },
     "metadata": {
      "needs_background": "light"
     },
     "output_type": "display_data"
    },
    {
     "name": "stdout",
     "output_type": "stream",
     "text": [
      "p₃(1.5) = 2.775\n",
      "p₃(1.2) = 2.832\n",
      "Δp₃(1.5) = 0.058, Δp₃(1.2) = 0.035\n"
     ]
    }
   ],
   "source": [
    "xData = array([0.8, 1, 2, 2.5])\n",
    "yData = xData + 2 / xData\n",
    "\n",
    "# plot\n",
    "x = linspace(min(xData), max(xData), 100, endpoint=True)\n",
    "y = lagrange_interpolation(x, xData, yData)\n",
    "plt.title('Cubic Lagrange Interpolation')\n",
    "plt.xlabel('x')\n",
    "plt.ylabel('y')\n",
    "plt.plot(xData, yData, 'o')\n",
    "plt.plot(x,y)\n",
    "plt.plot(x, x + 2 / x, '--')\n",
    "plt.xlim(0, 2.6)\n",
    "plt.ylim(2.5, 4.6)\n",
    "plt.legend(['Data', 'Lagrange Interpolation', r'$f(x)$'])\n",
    "plt.show()\n",
    "\n",
    "p15 = lagrange_interpolation(1.5, xData, yData)\n",
    "p12 = lagrange_interpolation(1.2, xData, yData)\n",
    "\n",
    "print('p₃(1.5) = %.3f' % p15)\n",
    "print('p₃(1.2) = %.3f' % p12)\n",
    "print('Δp₃(1.5) = %.3f, Δp₃(1.2) = %.3f' % (2.833 - p15, 2.867 - p12))"
   ]
  },
  {
   "cell_type": "markdown",
   "metadata": {},
   "source": [
    "#### 3. Given the data in the following table, construct a divided differences table and interpolate at $x = 2.4$ and $x = 4.2$ using the fourth-degree Newton interpolating polynomial $p_4(x)$.\n",
    "\n",
    "| $\\ $  | $\\ $ | $\\ $ | $\\ $ | $\\ $ | $\\ $ |\n",
    "| ----- | ---- | ---- | ---- | ---- | ---- |\n",
    "| $x_k$ | 1   | 2   | 3   | 4   | 6   |\n",
    "| $f_k$ | 0.69 | 1.10 | 1.39 | 1.61 | 1.95 |"
   ]
  },
  {
   "cell_type": "markdown",
   "metadata": {},
   "source": [
    "**Answer**:\n",
    "\n",
    "| $i$ | $x_i$ | $f_i$ | 1st  | 2st  | 3st  | 4st  |\n",
    "| --- | ----- | ----- | ---- | ---- | ---- | ---- |\n",
    "|  0  |  1   | 0.69  | $\\ $ | $\\ $ | $\\ $ | $\\ $ |\n",
    "|  1  |  2   | 1.10  | 0.41 | $\\ $ | $\\ $ | $\\ $ |\n",
    "|  2  |  3   | 1.39  | 0.29 | -0.060 | $\\ $   | $\\ $   |\n",
    "|  3  |  4   | 1.61  | 0.22 | -0.035 | 0.0083 | $\\ $    |\n",
    "|  4  |  6   | 1.95  | 0.17 | -0.017 | 0.0046 | -0.00075 |\n",
    "\n",
    "$$\n",
    "\\begin{aligned}\n",
    "p_4(x)=&0.69+0.41(x-1)-0.060(x-1)(x-2)+0.0083(x-1)(x-2)(x-3)\\\\\n",
    "&-0.00075(x-1)(x-2)(x-3)(x-4)\\\\\n",
    "=&-0.00075x^4 + 0.0158x^3 - 0.13605x^2 + 0.7188x + 0.0922\n",
    "\\end{aligned}\n",
    "$$\n",
    "\n",
    "So\n",
    "$$\n",
    "f(2.4)\\approx p_4(2.4)=1.23\\\\\n",
    "f(4.2)\\approx p_4(4.2)=1.65\n",
    "$$\n",
    "\n",
    "**Script**:"
   ]
  },
  {
   "cell_type": "code",
   "execution_count": 4,
   "metadata": {},
   "outputs": [
    {
     "data": {
      "image/png": "[encoded data removed]",
      "text/plain": [
       "<Figure size 432x288 with 1 Axes>"
      ]
     },
     "metadata": {
      "needs_background": "light"
     },
     "output_type": "display_data"
    },
    {
     "name": "stdout",
     "output_type": "stream",
     "text": [
      "p_4(2.4) = 1.23\n",
      "p_4(4.2) = 1.65\n"
     ]
    }
   ],
   "source": [
    "# the coefficients of Newton polynomials\n",
    "def newton_coeff(xData, yData):\n",
    "    a = yData.copy()\n",
    "    m = len(xData)\n",
    "    for k in range(1, m):  # m=n+1: number of data points\n",
    "        for i in range(k, m):\n",
    "            a[i] = (a[i] - a[k-1])/(xData[i] - xData[k-1])\n",
    "    return a\n",
    "\n",
    "# the interpolation value at x\n",
    "def newton_eval(a, xData, x):\n",
    "    m = len(xData)\n",
    "    n = m - 1\n",
    "    p = a[n]\n",
    "    for k in range(1, m):\n",
    "        p = a[n-k] + (x - xData[n-k]) * p\n",
    "    return p\n",
    "\n",
    "xData = array([1, 2, 3, 4, 6])\n",
    "yData = array([0.69, 1.10, 1.39, 1.61, 1.95])\n",
    "\n",
    "a = newton_coeff(xData, yData)\n",
    "\n",
    "x = linspace(min(xData), max(xData), 100, endpoint=True)\n",
    "y = newton_eval(a, xData, x)\n",
    "plt.title('Fourth-degree Newton Interpolation')\n",
    "plt.xlabel('x')\n",
    "plt.ylabel('y')\n",
    "plt.plot(xData,yData, 'o')\n",
    "plt.plot(x,y)\n",
    "plt.legend(['Data', 'Newton Interpolation'])\n",
    "plt.show()\n",
    "\n",
    "p24 = newton_eval(a, xData, 2.4)\n",
    "p42 = newton_eval(a, xData, 4.2)\n",
    "print('p_4(2.4) = %.2f' % p24)\n",
    "print('p_4(4.2) = %.2f' % p42)"
   ]
  },
  {
   "cell_type": "markdown",
   "metadata": {},
   "source": [
    "#### 5. The following table gives the value of the integral\n",
    "$$\n",
    "I(\\alpha)=\\int_{0}^{\\pi/2}\\frac{d\\phi}{\\sqrt{1-\\sin^{2}\\alpha\\sin^{2}\\phi}}\n",
    "$$\n",
    "#### for various values of $\\alpha$. (This integral is the complete elliptical integral of the first kind.)\n",
    "\n",
    "|   $\\ $      | $\\ $    | $\\ $   | $\\ $   | $\\ $   | $\\ $   |   $\\ $ |\n",
    "| --------------- | ------- | ------- | ------- | ------- | ------- | ------- |\n",
    "| $\\alpha$ ($°$) | 0     | 5     | 10    | 15     | 20    | 25     |\n",
    "| $I$         | 1.57080 | 1.57379 | 1.58284 | 1.59814 | 1.62003 | 1.64900 |"
   ]
  },
  {
   "cell_type": "markdown",
   "metadata": {},
   "source": [
    "#### (1) Using polynomial interpolation, find $I$ when $\\alpha= 2°$."
   ]
  },
  {
   "cell_type": "markdown",
   "metadata": {},
   "source": [
    "Solve\n",
    "$$\n",
    "\\begin{pmatrix}\n",
    "1 & \\alpha_0 & \\alpha_0^2 & \\cdots & \\alpha_0^{5}\\\\\n",
    "1 & \\alpha_1 & \\alpha_1^2 & \\cdots & \\alpha_1^{5}\\\\\n",
    "\\vdots&\\vdots&\\vdots&\\vdots&\\vdots\\\\\n",
    "1 & \\alpha_5 & \\alpha_5^2 & \\cdots & \\alpha_5^{5}\\\\\n",
    "\\end{pmatrix}\n",
    "\\begin{pmatrix}\n",
    "a_0\\\\\n",
    "a_1\\\\\n",
    "\\dots\\\\\n",
    "a_5\n",
    "\\end{pmatrix}=\n",
    "\\begin{pmatrix}\n",
    "I_0\\\\\n",
    "I_1\\\\\n",
    "\\vdots \\\\\n",
    "I_5\n",
    "\\end{pmatrix}\n",
    "$$"
   ]
  },
  {
   "cell_type": "code",
   "execution_count": 27,
   "metadata": {},
   "outputs": [
    {
     "data": {
      "image/png": "[encoded data removed]",
      "text/plain": [
       "<Figure size 432x288 with 1 Axes>"
      ]
     },
     "metadata": {
      "needs_background": "light"
     },
     "output_type": "display_data"
    },
    {
     "name": "stdout",
     "output_type": "stream",
     "text": [
      "I = 1.57127 (when 𝛼 = 2°)\n"
     ]
    }
   ],
   "source": [
    "from numpy import array, pi, linspace, linalg\n",
    "from numpy.polynomial.polynomial import Polynomial\n",
    "import matplotlib.pyplot as plt\n",
    "%matplotlib inline\n",
    "\n",
    "# data\n",
    "alpha_d = array([0, 5, 10, 15, 20, 25])  # unit: degree\n",
    "alpha = alpha_d / 180 * pi  # unit: radian\n",
    "I = array([1.57080, 1.57379, 1.58284, 1.59814, 1.62003, 1.64900])\n",
    "\n",
    "n = len(alpha)-1  # the order of the polynomial\n",
    "A = array([alpha**i for i in range(n+1)]).T  # Vandermonde matrix\n",
    "a = linalg.solve(A, I)  # the coefficients of the polynomial\n",
    "p = Polynomial(a)  # the polynomial interpolation\n",
    "\n",
    "# plot\n",
    "x = linspace(min(alpha_d), max(alpha_d), 100, endpoint=True)\n",
    "y = p(x/180*pi)\n",
    "plt.title('Fifth-degree Polynomial Interpolation')\n",
    "plt.xlabel(r'$\\alpha\\ (°)$')\n",
    "plt.ylabel(r'$I$')\n",
    "plt.plot(alpha_d, I, 'o')\n",
    "plt.plot(x, y)\n",
    "plt.legend(['Data','Polynomial Interpolation'])\n",
    "plt.show()\n",
    "\n",
    "print('I = %.5f (when 𝛼 = 2°)' % p(2/180*pi))"
   ]
  },
  {
   "cell_type": "markdown",
   "metadata": {},
   "source": [
    "#### (2) Use the trial-and-error search to find the value of $\\alpha$ such that $I=1.58$."
   ]
  },
  {
   "cell_type": "markdown",
   "metadata": {},
   "source": [
    "From the table we can see that the value of $\\alpha$ such that $I=1.58$ should be in the range from 5° to 10°."
   ]
  },
  {
   "cell_type": "code",
   "execution_count": 14,
   "metadata": {},
   "outputs": [
    {
     "name": "stdout",
     "output_type": "stream",
     "text": [
      "The value of 𝛼 such that I=1.58 is about 8.7°.\n"
     ]
    }
   ],
   "source": [
    "from numpy import arange, argsort\n",
    "\n",
    "x = arange(5/180*pi, 10/180*pi, 1e-5)  # 𝛼 ranges from 5° to 10°, step = 1e-5\n",
    "index = argsort(abs(p(x)-1.58)) # the index of 𝛼 sorted by distance between p(𝛼) and 1.58\n",
    "alpha_158 = x[index[0]]/pi*180  # the value of 𝛼 such that p(𝛼)=1.58\n",
    "\n",
    "print('The value of 𝛼 such that I=1.58 is about %.1f°.' % alpha_158)"
   ]
  },
  {
   "cell_type": "markdown",
   "metadata": {},
   "source": [
    "#### 7. The data in the following table shows the population of Canada recorded every 10 years between 1960 and 2010.\n",
    "\n",
    "| Year | Population (millions) |\n",
    "| ---- | --------------------- |\n",
    "| 1960 | 17.9                  |\n",
    "| 1970 | 21.3                  |\n",
    "| 1980 | 24.6                  |\n",
    "| 1990 | 27.8                  |\n",
    "| 2000 | 30.8                  |\n",
    "| 2010 | 34.1                  |"
   ]
  },
  {
   "cell_type": "markdown",
   "metadata": {},
   "source": [
    "#### (1) Find the rate of population growth in 2010 using the three-point backward difference formula."
   ]
  },
  {
   "cell_type": "code",
   "execution_count": null,
   "metadata": {},
   "outputs": [],
   "source": []
  },
  {
   "cell_type": "markdown",
   "metadata": {},
   "source": [
    "#### (2) Using the result of (1), and applying the two-point central difference formula, predict the population in Year 2020."
   ]
  },
  {
   "cell_type": "code",
   "execution_count": null,
   "metadata": {},
   "outputs": [],
   "source": []
  }
 ],
 "metadata": {
  "kernelspec": {
   "display_name": "Python 3",
   "language": "python",
   "name": "python3"
  },
  "language_info": {
   "codemirror_mode": {
    "name": "ipython",
    "version": 3
   },
   "file_extension": ".py",
   "mimetype": "text/x-python",
   "name": "python",
   "nbconvert_exporter": "python",
   "pygments_lexer": "ipython3",
   "version": "3.7.2"
  }
 },
 "nbformat": 4,
 "nbformat_minor": 2
}
