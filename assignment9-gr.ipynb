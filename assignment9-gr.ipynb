{
 "cells": [
  {
   "cell_type": "markdown",
   "metadata": {},
   "source": [
    "# Assignment Week 8\n",
    "## Group Assignment (Group 10)"
   ]
  },
  {
   "cell_type": "markdown",
   "metadata": {},
   "source": [
    "#### 1. Let $f(x)=x+2/x$."
   ]
  },
  {
   "cell_type": "markdown",
   "metadata": {},
   "source": [
    "#### (1) Use quadratic Lagrange interpolation based on the nodes $x_{0}=1$, $x_{1}=2$, and $x_{2}=2.5$ to approximate $f(1.5)$ and $f(1.2)$. "
   ]
  },
  {
   "cell_type": "markdown",
   "metadata": {},
   "source": [
    "$$\n",
    "\\begin{aligned}\n",
    "p_2(x)&=\\frac{(x-2)(x-2.5)}{(1-2)(1-2.5)}\\times 3+\\frac{(x-1)(x-2.5)}{(2-1)(2-2.5)}\\times 3+\\frac{(x-1)(x-2)}{(2.5-1)(2.5-2)}\\times 3.3\\\\\n",
    "&=0.4x^2-1.2x+3.8\n",
    "\\end{aligned}\n",
    "$$\n",
    "\n",
    "So\n",
    "$$\n",
    "f(1.5)\\approx p_2(1.5)=2.900\\\\\n",
    "f(1.2)\\approx p_2(1.2)=2.936\n",
    "$$"
   ]
  },
  {
   "cell_type": "markdown",
   "metadata": {},
   "source": [
    "#### (2) Use cubic Lagrange interpolation based on the nodes $x_{0}=0.5$, $x_{1}=1$, $x_{2}=2$, and $x_{3}=2.5$ to approximate $f(1.5)$ and $f(1.2)$."
   ]
  },
  {
   "cell_type": "markdown",
   "metadata": {},
   "source": [
    "$$\n",
    "\\begin{aligned}\n",
    "p_3(x)=&\\frac{(x-1)(x-2)(x-2.5)}{(0.5-1)(0.5-2)(0.5-2.5)}\\times 4.5+\\frac{(x-0.5)(x-2)(x-2.5)}{(1-0.5)(1-2)(1-2.5)}\\times 3\\\\\n",
    "&+\\frac{(x-0.5)(x-1)(x-2.5)}{(2-0.5)(2-1)(2-2.5)}\\times 3+\\frac{(x-0.5)(x-1)(x-2)}{(2.5-0.5)(2.5-1)(2.5-2)}\\times 3.3\\\\\n",
    "=&-0.8x^3 + 4.8x^2 - 8.8x + 7.8\n",
    "\\end{aligned}\n",
    "$$\n",
    "\n",
    "So\n",
    "$$\n",
    "f(1.5)\\approx p_3(1.5)=2.700\\\\\n",
    "f(1.2)\\approx p_3(1.2)=2.770\n",
    "$$"
   ]
  },
  {
   "cell_type": "markdown",
   "metadata": {},
   "source": [
    "#### (3) Compare the results of (1) and (2), and discuss on it."
   ]
  },
  {
   "cell_type": "markdown",
   "metadata": {},
   "source": [
    "The true value of $f(1.5)$ and $f(1.2)$ are 2.833 and 2.867.\n",
    "$$\n",
    "\\Delta p_2(1.5)=f(1.5)-p_2(1.5)=-0.067\\quad\\Delta p_2(1.2)=f(1.2)-p_2(1.2)=-0.069\\\\\n",
    "\\Delta p_3(1.5)=f(1.5)-p_3(1.5)=-0.133\\quad\\Delta p_3(1.2)=f(1.2)-p_3(1.2)=-0.097\n",
    "$$"
   ]
  },
  {
   "cell_type": "code",
   "execution_count": 47,
   "metadata": {},
   "outputs": [
    {
     "name": "stdout",
     "output_type": "stream",
     "text": [
      "p(x) = -0.8*x**3 + 4.8*x**2 - 8.8*x + 7.8\n",
      "2.6999999999999966 2.7695999999999996\n",
      "2.7 2.7696\n",
      "2.833333333333333 2.8666666666666667\n"
     ]
    }
   ],
   "source": [
    "from sympy import simplify\n",
    "from sympy.abc import x\n",
    "\n",
    "p=lambda x: -0.8*x**3 + 4.8*x**2 - 8.8*x + 7.8\n",
    "q=lambda x: (x-1)*(x-2)*(x-2.5)/(0.5-1)/(0.5-2)/(0.5-2.5)*4.5+(x-0.5)*(x-2)*(x-2.5)/(1-0.5)/(1-2)/(1-2.5)*3\\\n",
    "+(x-0.5)*(x-1)*(x-2.5)/(2-0.5)/(2-1)/(2-2.5)*3+(x-0.5)*(x-1)*(x-2)/(2.5-0.5)/(2.5-1)/(2.5-2)*3.3\n",
    "\n",
    "s=simplify(q(x))\n",
    "print('p(x) =', s)\n",
    "\n",
    "print(p(1.5), p(1.2))\n",
    "print(q(1.5), q(1.2))\n",
    "\n",
    "f = lambda x: x+2/x\n",
    "print(f(1.5), f(1.2))"
   ]
  },
  {
   "cell_type": "code",
   "execution_count": 48,
   "metadata": {},
   "outputs": [
    {
     "name": "stdout",
     "output_type": "stream",
     "text": [
      "4.5 3.0 3.0 3.3\n"
     ]
    }
   ],
   "source": [
    "print(f(0.5), f(1), f(2), f(2.5))"
   ]
  },
  {
   "cell_type": "markdown",
   "metadata": {},
   "source": [
    "#### 3. Given the data in the following table, construct a divided differences table and interpolate at $x = 2.4$ and $x = 4.2$ using the fourth-degree Newton interpolating polynomial $p_4(x)$.\n",
    "\n",
    "| $\\ $  | $\\ $ | $\\ $ | $\\ $ | $\\ $ | $\\ $ |\n",
    "| ----- | ---- | ---- | ---- | ---- | ---- |\n",
    "| $x_k$ | 1   | 2   | 3   | 4   | 6   |\n",
    "| $f_k$ | 0.69 | 1.10 | 1.39 | 1.61 | 1.95 |"
   ]
  },
  {
   "cell_type": "code",
   "execution_count": null,
   "metadata": {},
   "outputs": [],
   "source": []
  },
  {
   "cell_type": "markdown",
   "metadata": {},
   "source": [
    "#### 5. The following table gives the value of the integral\n",
    "$$\n",
    "I(\\alpha)=\\int_{0}^{\\pi/2}\\frac{d\\phi}{\\sqrt{1-\\sin^{2}\\alpha\\sin^{2}\\phi}}\n",
    "$$\n",
    "#### for various values of $\\alpha$. (This integral is the complete elliptical integral of the first kind.)\n",
    "\n",
    "|   $\\ $      | $\\ $    | $\\ $   | $\\ $   | $\\ $   | $\\ $   |   $\\ $ |\n",
    "| --------------- | ------- | ------- | ------- | ------- | ------- | ------- |\n",
    "| $\\alpha$ ($^0$) | 0     | 5     | 10    | 15     | 20    | 25     |\n",
    "| $I$         | 1.57080 | 1.57379 | 1.58284 | 1.59814 | 1.62003 | 1.64900 |"
   ]
  },
  {
   "cell_type": "markdown",
   "metadata": {},
   "source": [
    "#### (1) Using polynomial interpolation, find $I$ when $\\alpha= 2^0$."
   ]
  },
  {
   "cell_type": "code",
   "execution_count": null,
   "metadata": {},
   "outputs": [],
   "source": []
  },
  {
   "cell_type": "markdown",
   "metadata": {},
   "source": [
    "#### (2) Use the trial-and-error search to find the value of $\\alpha$ such that $I=1.58$."
   ]
  },
  {
   "cell_type": "code",
   "execution_count": null,
   "metadata": {},
   "outputs": [],
   "source": []
  },
  {
   "cell_type": "markdown",
   "metadata": {},
   "source": [
    "#### 7. The data in the following table shows the population of Canada recorded every 10 years between 1960 and 2010.\n",
    "\n",
    "| Year | Population (millions) |\n",
    "| ---- | --------------------- |\n",
    "| 1960 | 17.9                  |\n",
    "| 1970 | 21.3                  |\n",
    "| 1980 | 24.6                  |\n",
    "| 1990 | 27.8                  |\n",
    "| 2000 | 30.8                  |\n",
    "| 2010 | 34.1                  |"
   ]
  },
  {
   "cell_type": "markdown",
   "metadata": {},
   "source": [
    "#### (1) Find the rate of population growth in 2010 using the three-point backward difference formula."
   ]
  },
  {
   "cell_type": "code",
   "execution_count": null,
   "metadata": {},
   "outputs": [],
   "source": []
  },
  {
   "cell_type": "markdown",
   "metadata": {},
   "source": [
    "#### (2) Using the result of (1), and applying the two-point central difference formula, predict the population in Year 2020."
   ]
  },
  {
   "cell_type": "code",
   "execution_count": null,
   "metadata": {},
   "outputs": [],
   "source": []
  }
 ],
 "metadata": {
  "kernelspec": {
   "display_name": "Python 3",
   "language": "python",
   "name": "python3"
  },
  "language_info": {
   "codemirror_mode": {
    "name": "ipython",
    "version": 3
   },
   "file_extension": ".py",
   "mimetype": "text/x-python",
   "name": "python",
   "nbconvert_exporter": "python",
   "pygments_lexer": "ipython3",
   "version": "3.8.2"
  }
 },
 "nbformat": 4,
 "nbformat_minor": 2
}
