{
 "cells": [
  {
   "cell_type": "markdown",
   "metadata": {},
   "source": [
    "# Assignment Week 4\n",
    "## Group Assignment (Group 10)"
   ]
  },
  {
   "cell_type": "markdown",
   "metadata": {},
   "source": [
    "#### 1. Write a program that uses both upward and downward recursion to calculate the spherical Bessel function $j_{l}\\left(  x\\right)$ for the first 25 $l$ values for $x=0.1,1,10$. Tune your program so that at lease one method gives \"good\" values (meaning a relative error $\\simeq 10^{-10}$).\n",
    "\n",
    "#### a) Show the convergence and stability of your results.\n",
    "\n",
    "#### b) Compare the upward and downward recursion methods, printing out $l,$ $j_{l}^{\\left(\\text{up}\\right)  },$ $j_{l}^{\\left(\\text{down}\\right)},$ and the relative difference $\\left\\vert j_{l}^{\\left(  \\text{up}\\right)}-j_{l}^{\\left(\\text{down}\\right)}\\right\\vert \\left/  \\left(  \\left\\vert j_{l}^{\\left(  \\text{up}\\right)  }\\right\\vert +\\left\\vert j_{l}^{\\left(\\text{down}\\right)}\\right\\vert \\right)  \\right.$."
   ]
  },
  {
   "cell_type": "markdown",
   "metadata": {},
   "source": [
    "We first consider the upward recursion\n",
    "$$\n",
    "j_{l+1}(x)=\\frac{2l+1}{x}j_l(x)-j_{l-1}(x)\n",
    "$$"
   ]
  },
  {
   "cell_type": "code",
   "execution_count": 1,
   "metadata": {
    "scrolled": true
   },
   "outputs": [
    {
     "name": "stdout",
     "output_type": "stream",
     "text": [
      "x = 1\n"
     ]
    }
   ],
   "source": [
    "import numpy as np\n",
    "\n",
    "x = float(input('x = '))  # input x = 0.1,1,10\n",
    "#x = 1\n",
    "\n",
    "# exact spherical Bessel function for l = 0,1\n",
    "j0 = lambda x: np.sin(x) / x\n",
    "j1 = lambda x: np.sin(x) / x**2 - np.cos(x) / x\n",
    "\n",
    "# upward\n",
    "j_up = [j0(x), j1(x)]  # store the values of differnet l's\n",
    "\n",
    "for l in range(1, 25):\n",
    "    # the recursion\n",
    "    j_ = (2*l + 1) / x * j_up[-1] - j_up[-2]\n",
    "    j_up.append(j_)\n",
    "    "
   ]
  },
  {
   "cell_type": "markdown",
   "metadata": {},
   "source": [
    "The we apply the downward recursion\n",
    "$$\n",
    "j_{l-1}(x)=\\frac{2l+1}{x}j_l(x)-j_{l+1}(x)\n",
    "$$\n",
    "Notice that the initial condition $j_L$ and $j_{L+1}$ can have arbitrary values, but the final result should be normalized:\n",
    "$$\n",
    "j_l^n(x)=j_l^c(x)\\times\\frac{j_0^{\\rm analytic}(x)}{j_0^c(x)}\n",
    "$$"
   ]
  },
  {
   "cell_type": "code",
   "execution_count": 2,
   "metadata": {},
   "outputs": [],
   "source": [
    "L=50  # the initial l\n",
    "\n",
    "# the initial conditon\n",
    "jL1 = 1  # j_{L+1}\n",
    "jL = 1   # J_L\n",
    "\n",
    "# downward\n",
    "j_c = [jL1, jL]  # store the values of differnet l's\n",
    "\n",
    "for l in range(L-1, 0, -1):\n",
    "    # the recursion\n",
    "    j_ = (2*l + 1) / x * j_c[-1] - j_c[-2]\n",
    "    j_c.append(j_)\n",
    "\n",
    "j_down = np.array(j_c)*j0(x) / j_c[-1]  # normalization\n"
   ]
  },
  {
   "cell_type": "markdown",
   "metadata": {},
   "source": [
    "Now we show the result and compare. From `scipy.special` we can obtain the **correct** values of the spherical Bessel functions."
   ]
  },
  {
   "cell_type": "code",
   "execution_count": 3,
   "metadata": {},
   "outputs": [
    {
     "name": "stdout",
     "output_type": "stream",
     "text": [
      " 1        j_up             j_down          j_correct\n",
      "---------------------------------------------------------\n",
      " 0  8.4147098481e-01  8.4147098481e-01  8.4147098481e-01\n",
      " 1  3.0116867894e-01  3.0116867894e-01  3.0116867894e-01\n",
      " 2  6.2035052011e-02  6.2035052011e-02  6.2035052011e-02\n",
      " 3  9.0065811171e-03  9.0065811171e-03  9.0065811171e-03\n",
      " 4  1.0110158084e-03  1.0110158084e-03  1.0110158084e-03\n",
      " 5  9.2561158570e-05  9.2561158611e-05  9.2561158611e-05\n",
      " 6  7.1569358637e-06  7.1569363101e-06  7.1569363101e-06\n",
      " 7  4.7900765821e-07  4.7901341987e-07  4.7901341987e-07\n",
      " 8  2.8179009348e-08  2.8264988022e-08  2.8264988022e-08\n",
      " 9  3.5500713480e-11  1.4913765026e-09  1.4913765026e-09\n",
      "10 -2.7504495792e-08  7.1165526400e-11  7.1165526400e-11\n",
      "11 -5.7762991235e-07  3.0995518548e-12  3.0995518548e-12\n",
      "12 -1.3257983488e-05  1.2416625970e-13  1.2416625970e-13\n",
      "13 -3.3087195729e-04  4.6046376777e-15  4.6046376777e-15\n",
      "14 -8.9202848634e-03  1.5895759875e-16  1.5895759875e-16\n",
      "15 -2.5835738908e-01  5.1326861154e-18  5.1326861154e-18\n",
      "16 -8.0001587767e+00  1.5567082706e-19  1.5567082706e-19\n",
      "17 -2.6374688224e+02  4.4511775038e-21  4.4511775038e-21\n",
      "18 -9.2231407196e+03  1.2038557422e-22  1.2038557422e-22\n",
      "19 -3.4099245974e+05  3.0887423635e-24  3.0887423635e-24\n",
      "20 -1.3289482789e+07  7.5377957222e-26  7.5377957222e-26\n",
      "21 -5.4452780190e+08  1.7538825776e-27  1.7538825776e-27\n",
      "22 -2.3401405999e+10  3.8993613099e-29  3.8993613099e-29\n",
      "23 -1.0525187422e+12  8.3001189151e-31  8.3001189151e-31\n",
      "24 -4.9444979475e+13  1.6945801738e-32  1.6945801738e-32\n",
      "25 -2.4217514755e+15  3.3239363664e-34  3.3239363664e-34\n"
     ]
    }
   ],
   "source": [
    "from scipy.special import *\n",
    "\n",
    "# print the result and compare\n",
    "print(' 1        j_up             j_down          j_correct')\n",
    "print('---------------------------------------------------------')\n",
    "for l in range(26):\n",
    "    print('%2d%18.10e%18.10e%18.10e' % (l, j_up[l], j_down[L-l], spherical_jn(l,x)))"
   ]
  },
  {
   "cell_type": "markdown",
   "metadata": {},
   "source": [
    "From the above we can conclude that the result converges only when using the **downward recursion** and it gives \"good\" values that have **relative error less than $10^{-10}$**.\n",
    "\n",
    "Calculate and show the relative difference:"
   ]
  },
  {
   "cell_type": "code",
   "execution_count": 4,
   "metadata": {},
   "outputs": [
    {
     "name": "stdout",
     "output_type": "stream",
     "text": [
      " l   diff_r\n",
      "--------------\n",
      " 0  0.000e+00\n",
      " 1  1.843e-16\n",
      " 2  1.342e-15\n",
      " 3  3.804e-14\n",
      " 4  2.291e-12\n",
      " 5  2.215e-10\n",
      " 6  3.118e-08\n",
      " 7  6.014e-06\n",
      " 8  1.523e-03\n",
      " 9  9.535e-01\n",
      "10  1.000e+00\n",
      "11  1.000e+00\n",
      "12  1.000e+00\n",
      "13  1.000e+00\n",
      "14  1.000e+00\n",
      "15  1.000e+00\n",
      "16  1.000e+00\n",
      "17  1.000e+00\n",
      "18  1.000e+00\n",
      "19  1.000e+00\n",
      "20  1.000e+00\n",
      "21  1.000e+00\n",
      "22  1.000e+00\n",
      "23  1.000e+00\n",
      "24  1.000e+00\n",
      "25  1.000e+00\n"
     ]
    }
   ],
   "source": [
    "print(' l   diff_r\\n--------------')\n",
    "for l in range(26):\n",
    "    diff_r = abs(j_up[l] - j_down[L-l]) / (abs(j_up[l]) + abs(j_down[L-l]))\n",
    "    print('%2d  %.3e' % (l, diff_r))"
   ]
  },
  {
   "cell_type": "markdown",
   "metadata": {},
   "source": [
    "#### 2.Suppose that the equations of motion for a projectile are \n",
    "$$\n",
    "    \\begin{aligned}\n",
    "    y&=f(t)=9600(1-e^{-t/15})-480t\\\\\n",
    "    x&=r(t)=2400(1-e^{-t/15})\n",
    "    \\end{aligned}\n",
    "$$\n",
    "#### a) Find the elapsed time until impact accurate to 10 decimal places.\n",
    "\n",
    "#### b) Find the range accurate to 10 decimal places.\n",
    "\n",
    "####    by applying\n",
    "\n",
    "####    1) the bisection algorithm,\n",
    "\n",
    "####    2) the inverse interpolation method, and\n",
    "\n",
    "####    3) the secant method.\n",
    "\n",
    "####    Please compare your results. \n",
    "    \n",
    "**Hint**: Please read the sample scripts first."
   ]
  },
  {
   "cell_type": "code",
   "execution_count": 5,
   "metadata": {},
   "outputs": [
    {
     "name": "stdout",
     "output_type": "stream",
     "text": [
      "Number of function calls: 97\n",
      "The elapsed time is: 9.0878996688\n",
      "The range is: 1090.5479602542\n"
     ]
    }
   ],
   "source": [
    "# method 1 the bisection algorithm\n",
    "import sys\n",
    "import math\n",
    "\n",
    "def bisection(f, x_L, x_R, eps):\n",
    "    f_L = f(x_L)\n",
    "    if f_L*f(x_R) > 0:\n",
    "        print(\"\"\"Error! Function does not have opposite \n",
    "                 signs at interval endpoints!\"\"\")\n",
    "        sys.exit(1)\n",
    "    x_M = (x_L + x_R)/2.0\n",
    "    f_M = f(x_M)\n",
    "    iteration_counter = 1\n",
    "\n",
    "    while abs(f_M) > eps:\n",
    "        if f_L*f_M > 0:   # i.e. same sign\n",
    "            x_L = x_M\n",
    "            f_L = f_M\n",
    "        else:\n",
    "            x_R = x_M\n",
    "        x_M = (x_L + x_R)/2\n",
    "        f_M = f(x_M)\n",
    "        iteration_counter = iteration_counter + 1\n",
    "    return x_M, iteration_counter\n",
    "\n",
    "if __name__ == '__main__':\n",
    "    def f(x):\n",
    "        return 9600*(1-math.exp(-x/15))-480*x\n",
    "    def g(x):\n",
    "        return 2400*(1-math.exp(-x/15)) \n",
    "    \n",
    "    a = 1;   b = 100\n",
    "    \n",
    "    solution, no_iterations = bisection(f, a, b, eps=1.0e-11)\n",
    "    \n",
    "    print('Number of function calls: {:d}'.format(1 + 2*no_iterations))\n",
    "    print('The elapsed time is: {:.10f}'.format(solution))\n",
    "    print('The range is: {:.10f}'.format(g(solution)))"
   ]
  },
  {
   "cell_type": "code",
   "execution_count": 6,
   "metadata": {},
   "outputs": [
    {
     "name": "stdout",
     "output_type": "stream",
     "text": [
      "Number of function calls: 96\n",
      "The elapsed time is: 9.0878996688\n",
      "The range is: 1090.5479602542\n"
     ]
    }
   ],
   "source": [
    "# method 2  the inverse interpolation method\n",
    "def secant(f, x0, x1, eps):\n",
    "    f_x0 = f(x0)\n",
    "    f_x1 = f(x1)\n",
    "    iteration_counter = 0\n",
    "    while abs(f_x0) > eps:\n",
    "        denominator = (f_x1 - f_x0)/(x1 - x0)\n",
    "        x = x1 - f_x1/denominator\n",
    "        x0 = x\n",
    "        f_x0 = f(x0)\n",
    "        iteration_counter = iteration_counter + 1\n",
    "    return x, iteration_counter\n",
    "\n",
    "if __name__ == '__main__':\n",
    "    def f(x):\n",
    "        return 9600*(1-math.exp(-x/15))-480*x\n",
    "    def g(x):\n",
    "        return 2400*(1-math.exp(-x/15)) \n",
    "    x0 = 1; x1 =100\n",
    "    solution, no_iterations = secant(f, x0, x1, eps=1.0e-11)\n",
    "    print('Number of function calls: {:d}'.format(2+no_iterations))\n",
    "    print('The elapsed time is: {:.10f}'.format(solution))\n",
    "    print('The range is: {:.10f}'.format(g(solution)))\n",
    "    "
   ]
  },
  {
   "cell_type": "code",
   "execution_count": 7,
   "metadata": {},
   "outputs": [
    {
     "name": "stdout",
     "output_type": "stream",
     "text": [
      "Number of function calls: 11\n",
      "The elapsed time is: 9.0878996688\n",
      "The range is: 1090.5479602542\n"
     ]
    }
   ],
   "source": [
    "# method 3 the secant method\n",
    "def secant(f, x0, x1, eps):\n",
    "    f_x0 = f(x0)\n",
    "    f_x1 = f(x1)\n",
    "    iteration_counter = 0\n",
    "    while abs(f_x1) > eps and iteration_counter < 100:\n",
    "        try:\n",
    "            denominator = (f_x1 - f_x0)/(x1 - x0)\n",
    "            x = x1 - f_x1/denominator\n",
    "        except ZeroDivisionError:\n",
    "            print('Error! - denominator zero for x = ', x)\n",
    "            sys.exit(1) \n",
    "        x0 = x1\n",
    "        x1 = x\n",
    "        f_x0 = f_x1\n",
    "        f_x1 = f(x1)\n",
    "        iteration_counter = iteration_counter + 1\n",
    "    if abs(f_x1) > eps:\n",
    "        iteration_counter = -1\n",
    "    return x, iteration_counter\n",
    "\n",
    "if __name__ == '__main__':\n",
    "    def f(x):\n",
    "        return 9600*(1-math.exp(-x/15))-480*x\n",
    "    def g(x):\n",
    "        return 2400*(1-math.exp(-x/15)) \n",
    "    x0 = 100; x1 =1000\n",
    "    solution, no_iterations = secant(f, x0, x1, eps=1.0e-11)\n",
    "    if no_iterations > 0: \n",
    "        print('Number of function calls: {:d}'.format(2+no_iterations))\n",
    "        print('The elapsed time is: {:.10f}'.format(solution))\n",
    "        print('The range is: {:.10f}'.format(g(solution)))\n",
    "    else:\n",
    "        print('Solution not found!')\n",
    "        "
   ]
  },
  {
   "cell_type": "markdown",
   "metadata": {},
   "source": [
    "#### conclusion:\n",
    "\n",
    "We can see from the result that if the accuracy is determined(10 decimal places), the result is utterly equal by applying these three different methods. \n",
    "\n",
    "Reaching the same accuracy, three methods go through different numbers of function calls. We can see that to solve this question, the secant method is the best, the inverse interpolation method is the second best, and the bisection algorithm is the third best.\n"
   ]
  },
  {
   "cell_type": "markdown",
   "metadata": {},
   "source": [
    "#### 3. Solve Nonlinear Equation for a Vibrating Beam  \n",
    "#### An important engineering problem that arises in a lot of applications is the vibrations of a clamped beam where the other end is free. This problem can be analyzed analytically, but the calculations boil down to solving the following nonlinear algebraic equation:\n",
    "\n",
    "$$\n",
    "\\cosh \\beta \\cos \\beta = −1\n",
    "$$\n",
    "\n",
    "#### where $\\beta$ is related to important beam parameters through\n",
    "$$\n",
    " \\beta^4 = \\omega^2\\frac{\\rho A}{EI}\n",
    "$$"
   ]
  },
  {
   "cell_type": "markdown",
   "metadata": {},
   "source": [
    "#### a) Plot the equation to be solved so that one can inspect where the zero crossings occur.  "
   ]
  },
  {
   "cell_type": "code",
   "execution_count": 8,
   "metadata": {},
   "outputs": [
    {
     "data": {
      "image/png": "[encoded data removed]",
      "text/plain": [
       "<Figure size 432x288 with 1 Axes>"
      ]
     },
     "metadata": {
      "needs_background": "light"
     },
     "output_type": "display_data"
    }
   ],
   "source": [
    "import matplotlib.pyplot as plt\n",
    "import numpy as np\n",
    "%matplotlib inline\n",
    "\n",
    "f = lambda x: np.cosh(x) * np.cos(x) + 1  # function such that f(beta) = 0\n",
    "\n",
    "beta = np.linspace(0,10,1000)  # beta ranges [0, 10]\n",
    "g = np.exp(-beta) * f(beta)  # g = exp(-beta) * f\n",
    "\n",
    "h = np.zeros(1000)  # the line y = 0\n",
    "\n",
    "# plot the curves\n",
    "plt.plot(beta, g)\n",
    "plt.plot(beta, h, linestyle = '--')\n",
    "\n",
    "# beautify the plot\n",
    "plt.title('Finding the roots')\n",
    "plt.xlim(0,10)\n",
    "plt.xlabel(r'$\\beta$')\n",
    "plt.ylabel(r'$g(\\beta)$')\n",
    "\n",
    "plt.show()"
   ]
  },
  {
   "cell_type": "markdown",
   "metadata": {},
   "source": [
    "From the plot we can see that the first three roots are respectively in the range **[1, 2], [4, 5] and [7, 8]**."
   ]
  },
  {
   "cell_type": "markdown",
   "metadata": {},
   "source": [
    "#### b) Compute the first three frequencies.\n",
    "\n",
    "We believe the secant method may be the most effective for this problem after answering the last question.\n",
    "\n",
    "First we define a `method` called `secant` that can print the solution and the number of function calls for a given function, a fixed interval and the preset tolerance $\\epsilon$."
   ]
  },
  {
   "cell_type": "code",
   "execution_count": 9,
   "metadata": {},
   "outputs": [],
   "source": [
    "import sys\n",
    "\n",
    "def secant(f, x0, x1, eps):\n",
    "    f_x0 = f(x0)\n",
    "    f_x1 = f(x1)\n",
    "    count = 0\n",
    "    while abs(f_x1) > eps and count < 100:\n",
    "        try:\n",
    "            denominator = (f_x1 - f_x0)/(x1 - x0)\n",
    "            x = x1 - f_x1/denominator\n",
    "        except ZeroDivisionError:\n",
    "            print('Error! - denominator zero for x = ', x)\n",
    "            sys.exit(1)  # abort with error\n",
    "        \n",
    "        x0 = x1\n",
    "        x1 = x\n",
    "        f_x0 = f_x1\n",
    "        f_x1 = f(x1)\n",
    "        \n",
    "        count += 1\n",
    "    \n",
    "    # either a solution is found, or too many iterations\n",
    "    if abs(f_x1) > eps:  # solution not found\n",
    "        count = -1\n",
    "\n",
    "    if count > 0:  # solution found\n",
    "        print('Number of function calls: {:d}'.format(2+count))\n",
    "        print('A solution is: {:f}'.format(x))\n",
    "    else:\n",
    "        print('Solution not found!')"
   ]
  },
  {
   "cell_type": "markdown",
   "metadata": {},
   "source": [
    "Then we apply the `method` just defined to find the first three roots in the three intervals."
   ]
  },
  {
   "cell_type": "code",
   "execution_count": 10,
   "metadata": {},
   "outputs": [
    {
     "name": "stdout",
     "output_type": "stream",
     "text": [
      "Number of function calls: 7\n",
      "A solution is: 1.875104\n",
      "\n",
      "Number of function calls: 9\n",
      "A solution is: 4.694091\n",
      "\n",
      "Number of function calls: 8\n",
      "A solution is: 7.854757\n"
     ]
    }
   ],
   "source": [
    "secant(f, 1, 2, eps=1.0e-6)\n",
    "print()\n",
    "secant(f, 4, 5, eps=1.0e-6)\n",
    "print()\n",
    "secant(f, 7, 8, eps=1.0e-6)"
   ]
  },
  {
   "cell_type": "markdown",
   "metadata": {},
   "source": [
    "Having known the value of $\\beta$'s, plug\n",
    "\n",
    "$$\n",
    "\\rho=7850\\ {\\rm kg/m^3},\\quad A=25\\times 8=200\\ {\\rm mm^2},\\quad E=2\\times 10^{11}\\ {\\rm Pa},\\quad I=\\frac{25\\times 8^3}{12}=\n",
    "\\frac{3200}{3}\\ {\\rm mm^4}\n",
    "$$\n",
    "into\n",
    "$$\n",
    "\\beta^4 = \\omega^2\\frac{\\rho A}{EI}\n",
    "$$\n",
    "We finally get the first three frequencies,which are\n",
    "$$\n",
    "\\omega_1 = 41.0\\ {\\rm Hz},\\quad\\omega_2=257\\ {\\rm Hz},\\quad\\omega_3=719\\ {\\rm Hz}\n",
    "$$"
   ]
  },
  {
   "cell_type": "code",
   "execution_count": null,
   "metadata": {},
   "outputs": [],
   "source": []
  }
 ],
 "metadata": {
  "kernelspec": {
   "display_name": "Python 3",
   "language": "python",
   "name": "python3"
  },
  "language_info": {
   "codemirror_mode": {
    "name": "ipython",
    "version": 3
   },
   "file_extension": ".py",
   "mimetype": "text/x-python",
   "name": "python",
   "nbconvert_exporter": "python",
   "pygments_lexer": "ipython3",
   "version": "3.7.2"
  }
 },
 "nbformat": 4,
 "nbformat_minor": 2
}
