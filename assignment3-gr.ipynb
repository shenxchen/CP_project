{
 "cells": [
  {
   "cell_type": "markdown",
   "metadata": {},
   "source": [
    "# Assignment Week 3\n",
    "## Group Assignment (Group 10)"
   ]
  },
  {
   "cell_type": "markdown",
   "metadata": {},
   "source": [
    "#### 1. The quadratic equation $ax^{2}+bx+c=0$ has an analytic solution that can be written as either \n",
    "$$\n",
    "x_{1,2}=\\frac{-b\\pm\\sqrt{b^{2}-4ac}}{2a}\\text{ or }x_{1,2}=\\frac{2c}{-b\\pm\\sqrt{b^{2}-4ac}}\n",
    "$$\n",
    "#### When $b^{2}\\gg4ac$, the square root and its preceding term nearly cancel for one of the roots. Consequently, subtractive cancellation (and consequently an increase in error) arises. Consider the following equations:  \n",
    "(1) $x^2-1000.001x+1=0$;  \n",
    "(2) $x^2-10000.0001x+1=0$;  \n",
    "(3) $x^2-100000.00001x+1=0$;  \n",
    "(4) $x^2-1000000.000001x+1=0$.\n",
    "\n"
   ]
  },
  {
   "cell_type": "markdown",
   "metadata": {},
   "source": [
    "#### (a) Using the appropriate method to find the roots of the equations.  \n",
    "\n",
    "Since $b$ is negative, $-b$ is positive. And $\\sqrt{b^{2}-4ac}$ is very close to $-b$. So we cannot use formulas involving $-b-\\sqrt{b^{2}-4ac}$, especially when it is the denominator. We choose\n",
    "$$\n",
    "x_1=\\frac{2c}{-b+\\sqrt{b^{2}-4ac}},\\quad x_2=\\frac{-b+\\sqrt{b^{2}-4ac}}{2a}\n",
    "$$\n",
    "to calculate the two roots."
   ]
  },
  {
   "cell_type": "code",
   "execution_count": 1,
   "metadata": {},
   "outputs": [
    {
     "name": "stdout",
     "output_type": "stream",
     "text": [
      "Equation (1):\n",
      "x1_1 = 0.001\n",
      "x2_1 = 1000.000000000000000000000000000000000000\n",
      "\n",
      "Equation (2):\n",
      "x1_2 = 0.0001000000000000000090949470177292832063310\n",
      "x2_2 = 9999.999999999999090505298227071762084965\n",
      "\n",
      "Equation (3):\n",
      "x1_3 = 0.00001\n",
      "x2_3 = 100000.0000000000000000000000000000000000\n",
      "\n",
      "Equation (4):\n",
      "x1_4 = 0.000001\n",
      "x2_4 = 1000000.00000000000000000000000000000000\n",
      "\n"
     ]
    }
   ],
   "source": [
    "import math\n",
    "import numpy as np\n",
    "from decimal import *\n",
    "\n",
    "getcontext().prec = 40\n",
    "\n",
    "a = Decimal(1.0)\n",
    "bs = [Decimal(-1000.001), Decimal(-10000.0001), Decimal(-100000.00001), Decimal(-1000000.000001)]\n",
    "c = Decimal(1.0)\n",
    "\n",
    "roots = []    # to store the roots of the four equations\n",
    "\n",
    "# ony b is different for the four equations\n",
    "for index, b in enumerate(bs):\n",
    "    print('Equation ({}):'.format(index+1))\n",
    "    x1 = 2*c / (-b + Decimal(math.sqrt(b**2 - 4*a*c)))\n",
    "    x2 = (-b + Decimal(math.sqrt(b**2 - 4*a*c))) / 2*a\n",
    "    roots.append([x1,x2])\n",
    "    print('x1_{} = {}'.format(index+1, x1))\n",
    "    print('x2_{} = {}\\n'.format(index+1, x2))"
   ]
  },
  {
   "cell_type": "markdown",
   "metadata": {},
   "source": [
    "#### (b) Determine the absolute and relative errors for your results. \n",
    "\n",
    "$$\n",
    "\\text{The absolute error }E_t=|\\text{approximation}-\\text{true value}|\n",
    "$$\n",
    "\n",
    "$$\n",
    "\\text{The relative error }\\varepsilon_t=\\frac{|\\text{approximation}-\\text{true value}|}{\\text{true value}}\n",
    "$$"
   ]
  },
  {
   "cell_type": "code",
   "execution_count": 2,
   "metadata": {},
   "outputs": [
    {
     "name": "stdout",
     "output_type": "stream",
     "text": [
      "*Equation (1):\n",
      "\n",
      "Absolute error for x1 and x2:\n",
      "E1 = 2.081668171172168513294309377670288085938E-20\n",
      "E2 = 0E-36 \n",
      "\n",
      "Relative error for x1 and x2:\n",
      "e1 = 2.081668171172168469960885628957482294237E-17\n",
      "e2 = 0E-36 \n",
      "\n",
      "*Equation (2):\n",
      "\n",
      "Absolute error for x1 and x2:\n",
      "E1 = 4.302773415343353608018058620154857635498E-21\n",
      "E2 = 9.09494701772928237915035E-13 \n",
      "\n",
      "Relative error for x1 and x2:\n",
      "e1 = 4.302773415343353401821686839591182093680E-17\n",
      "e2 = 9.09494701772928237915035E-17 \n",
      "\n",
      "*Equation (3):\n",
      "\n",
      "Absolute error for x1 and x2:\n",
      "E1 = 8.180305391403130954586231382563710212708E-22\n",
      "E2 = 0E-34 \n",
      "\n",
      "Relative error for x1 and x2:\n",
      "e1 = 8.180305391403130285412268416372449719942E-17\n",
      "e2 = 0E-34 \n",
      "\n",
      "*Equation (4):\n",
      "\n",
      "Absolute error for x1 and x2:\n",
      "E1 = 4.525188817411374131438606127630919218063E-23\n",
      "E2 = 0E-32 \n",
      "\n",
      "Relative error for x1 and x2:\n",
      "e1 = 4.525188817411374336211944459880435759917E-17\n",
      "e2 = 0E-32 \n",
      "\n"
     ]
    }
   ],
   "source": [
    "# the true values\n",
    "true=[[Decimal(0.001),Decimal(1000)],\\\n",
    "      [Decimal(0.0001),Decimal(10000)],\\\n",
    "      [Decimal(0.00001),Decimal(100000)],\\\n",
    "      [Decimal(0.000001),Decimal(1000000)]]\n",
    "\n",
    "for index, root in enumerate(roots):\n",
    "    print('*Equation ({}):\\n'.format(index+1))\n",
    "\n",
    "    # the absolute error\n",
    "    E1 = np.abs(root[0] - true[index][0])\n",
    "    E2 = np.abs(root[1] - true[index][1])\n",
    "\n",
    "    # the relative error\n",
    "    e1 = np.abs(root[0] - true[index][0]) / true[index][0]\n",
    "    e2 = np.abs(root[1] - true[index][1]) / true[index][1]\n",
    "\n",
    "    print('Absolute error for x1 and x2:')\n",
    "    print('E1 =', E1)\n",
    "    print('E2 =', E2, '\\n')\n",
    "    print('Relative error for x1 and x2:')\n",
    "    print('e1 =', e1)\n",
    "    print('e2 =', e2, '\\n')"
   ]
  },
  {
   "cell_type": "markdown",
   "metadata": {},
   "source": [
    "#### 2. Several mathematical constants are used very frequently in science, such as $\\pi$,  $e$, and the Euler constant $\\gamma= \\displaystyle\\lim_{n\\rightarrow\\infty}\\left(\\displaystyle\\sum_{k=1}^n k^{-1}-\\ln n\\right)$. Find three ways of creating each of $\\pi$, $e$, and $\\gamma$ in a code."
   ]
  },
  {
   "cell_type": "markdown",
   "metadata": {},
   "source": [
    "**(a) $\\pi :$**\n",
    "\n",
    "<u>Method 1</u>:\n",
    "$$\n",
    "\\frac{\\pi}{4}=1-\\frac{1}{3}+\\frac{1}{5}-\\frac{1}{7}+\\dots\n",
    "$$"
   ]
  },
  {
   "cell_type": "code",
   "execution_count": 3,
   "metadata": {},
   "outputs": [
    {
     "name": "stdout",
     "output_type": "stream",
     "text": [
      "PI = 3.14159365\n"
     ]
    }
   ],
   "source": [
    "import numpy as np\n",
    "\n",
    "significant_digits = 8\n",
    "\n",
    "epsilon_s = 0.5 / np.power(10, significant_digits - 2)\n",
    "\n",
    "n = 0\n",
    "present = 0\n",
    "last = -1\n",
    "while np.abs(present - last) > epsilon_s:\n",
    "    last = present\n",
    "    present += (-1)**n / (2*n + 1)\n",
    "    n += 1\n",
    "\n",
    "pi = present*4\n",
    "\n",
    "print(('PI = %'+str(significant_digits+1)+'.'+str(significant_digits)+'f') % pi)"
   ]
  },
  {
   "cell_type": "markdown",
   "metadata": {},
   "source": [
    "<u>Method 2</u>:\n",
    "$$\n",
    "\\frac{\\pi^2}{6}=\\sum_{n=1}^{\\infty}\\limits\\frac{1}{n^2}\n",
    "$$"
   ]
  },
  {
   "cell_type": "code",
   "execution_count": 4,
   "metadata": {},
   "outputs": [
    {
     "name": "stdout",
     "output_type": "stream",
     "text": [
      "PI = 3.1415251357\n"
     ]
    }
   ],
   "source": [
    "import numpy as np\n",
    "\n",
    "significant_digits = 10\n",
    "\n",
    "epsilon_s = 0.5 / np.power(10, significant_digits - 2)\n",
    "\n",
    "n = 1\n",
    "present = 0\n",
    "last = -1\n",
    "while np.abs(present - last) > epsilon_s:\n",
    "    last = present\n",
    "    present += 1 / n**2\n",
    "    n += 1\n",
    "\n",
    "pi = np.sqrt(present*6)\n",
    "\n",
    "print(('PI = %'+str(significant_digits+1)+'.'+str(significant_digits)+'f') % pi)"
   ]
  },
  {
   "cell_type": "markdown",
   "metadata": {},
   "source": [
    "<u>Method 3</u>:\n",
    "$$\n",
    "\\frac{\\pi}{2}=1+\\frac{1}{3}+\\frac{1}{3}\\times\\frac{2}{5}+\\frac{1}{3}\\times\\frac{2}{5}\\times\\frac{3}{7}+\\dots\n",
    "$$"
   ]
  },
  {
   "cell_type": "code",
   "execution_count": 5,
   "metadata": {},
   "outputs": [
    {
     "name": "stdout",
     "output_type": "stream",
     "text": [
      "PI = 3.141592653003482\n"
     ]
    }
   ],
   "source": [
    "import numpy as np\n",
    "\n",
    "significant_digits = 15\n",
    "\n",
    "epsilon_s = 0.5 / np.power(10, significant_digits - 2)\n",
    "\n",
    "summ = 1.0\n",
    "term = 1.0\n",
    "a = 1\n",
    "b = 3\n",
    "\n",
    "while term > epsilon_s:\n",
    "    term = term * a / b\n",
    "    summ += term\n",
    "    a += 1\n",
    "    b += 2\n",
    "\n",
    "pi = summ * 2\n",
    "\n",
    "print(('PI = %'+str(significant_digits+1)+'.'+str(significant_digits)+'f') % pi)"
   ]
  },
  {
   "cell_type": "markdown",
   "metadata": {},
   "source": [
    "三种方法的代码量都差不多，但是方法三是最好的，收敛速度很快，并且结果较为准确。方法一的结果比方法二准确，但是收敛速度太慢，很难达到更高的准确度。方法二的收敛速度比方法一快，但是结果很不准确。"
   ]
  },
  {
   "cell_type": "markdown",
   "metadata": {},
   "source": [
    "**(b) $e$:**\n",
    "\n",
    "<u>Method 1</u>:\n",
    "$$\n",
    "e=\\lim_{x\\to\\infty}\\limits\\left(1+\\frac{1}{x}\\right)^x\n",
    "$$"
   ]
  },
  {
   "cell_type": "code",
   "execution_count": 6,
   "metadata": {},
   "outputs": [
    {
     "name": "stdout",
     "output_type": "stream",
     "text": [
      "e= 2.7182804690957534\n"
     ]
    }
   ],
   "source": [
    "x = 1000000\n",
    "e=(1+1/x)**x\n",
    "print('e=', e)"
   ]
  },
  {
   "cell_type": "markdown",
   "metadata": {},
   "source": [
    "<u>Method 2</u>:\n",
    "$$\n",
    "e=1+\\frac{1}{1!}+\\frac{1}{2!}+\\frac{1}{3!}+\\dots\n",
    "$$"
   ]
  },
  {
   "cell_type": "code",
   "execution_count": 7,
   "metadata": {},
   "outputs": [
    {
     "name": "stdout",
     "output_type": "stream",
     "text": [
      "It takes 13 steps to get e = 2.718281828446759\n"
     ]
    }
   ],
   "source": [
    "import numpy as np\n",
    "\n",
    "significant_digits = 15\n",
    "\n",
    "epsilon_s = 0.5 / np.power(10, significant_digits - 2)\n",
    "\n",
    "summ = 1.0\n",
    "fac = 1.0\n",
    "step = 0\n",
    "while 1 / fac > epsilon_s:\n",
    "    fac = fac * (step + 1)\n",
    "    summ += 1 / fac\n",
    "    step += 1\n",
    "\n",
    "print(('It takes %d steps to get e = %'+str(significant_digits+1)+'.'+str(significant_digits)+'f') % (step, summ))"
   ]
  },
  {
   "cell_type": "markdown",
   "metadata": {},
   "source": [
    "<u>Method 3</u>:\n",
    "$$\n",
    "e=\\frac{\\frac{\\frac{\\cdots}{3}+1}{2}+1}{1}+1\n",
    "$$"
   ]
  },
  {
   "cell_type": "code",
   "execution_count": 8,
   "metadata": {},
   "outputs": [
    {
     "name": "stdout",
     "output_type": "stream",
     "text": [
      "e = 2.718281828459045\n"
     ]
    }
   ],
   "source": [
    "e = 1\n",
    "for i in range(17,0,-1):\n",
    "    e = e / i + 1\n",
    "print('e =',e)    "
   ]
  },
  {
   "cell_type": "markdown",
   "metadata": {},
   "source": [
    "三种方法中，方法一的代码最为简洁，但是准确度不够，x需要取得很大。方法二的收敛速度较快，数列只需求和13次就可达到10位有效数字。方法三的代码很简洁，收敛速度很快，并且运算结果非常准确。所以，方法三是最好的方法。"
   ]
  },
  {
   "cell_type": "markdown",
   "metadata": {},
   "source": [
    "**(c) $\\gamma:$**\n",
    "\n",
    "<u>Method 1</u>:\n",
    "$$\n",
    "\\gamma= \\displaystyle\\lim_{n\\to\\infty}\\left(\\displaystyle\\sum_{k=1}^n k^{-1}-\\ln n\\right)\n",
    "$$"
   ]
  },
  {
   "cell_type": "code",
   "execution_count": 9,
   "metadata": {},
   "outputs": [
    {
     "name": "stdout",
     "output_type": "stream",
     "text": [
      "gamma = 0.5772161649012162\n"
     ]
    }
   ],
   "source": [
    "summ = 0\n",
    "for n in range(1, 1000000):\n",
    "    summ += 1 / n\n",
    "gamma = summ - np.log(n)\n",
    "print('gamma =', gamma)"
   ]
  },
  {
   "cell_type": "markdown",
   "metadata": {},
   "source": [
    "<u>Method 2</u>:\n",
    "$$\n",
    "\\gamma= \\sum_{n=2}^{\\infty}(-1)^n\\frac{[\\log_2 n]}{n}\n",
    "$$\n",
    "where the square brackets '$[\\ ]$' means 'taking the floor of'."
   ]
  },
  {
   "cell_type": "code",
   "execution_count": 10,
   "metadata": {},
   "outputs": [
    {
     "name": "stdout",
     "output_type": "stream",
     "text": [
      "It takes 359999 steps to get gamma = 0.577239\n"
     ]
    }
   ],
   "source": [
    "import numpy as np\n",
    "\n",
    "significant_digits = 6\n",
    "\n",
    "epsilon_s = 0.5 / np.power(10, significant_digits - 2)\n",
    "\n",
    "n = 2\n",
    "present = 0\n",
    "last = -1\n",
    "while np.abs(present - last) > epsilon_s:\n",
    "    last = present\n",
    "    present += (-1)**n * np.floor(np.log2(n)) / n\n",
    "    n += 1\n",
    "\n",
    "print(('It takes %d steps to get gamma = %'+str(significant_digits+1)+'.'+str(significant_digits)+'f') % (n - 2, present))"
   ]
  },
  {
   "cell_type": "markdown",
   "metadata": {},
   "source": [
    "<u>Method 3</u>:\n",
    "$$\n",
    "\\gamma= -\\int_0^1\\ln\\left(\\ln\\frac{1}{x}\\right)\\ \\mathbb{d}x\n",
    "$$"
   ]
  },
  {
   "cell_type": "code",
   "execution_count": 11,
   "metadata": {},
   "outputs": [
    {
     "name": "stdout",
     "output_type": "stream",
     "text": [
      "0.5771165140328548\n"
     ]
    }
   ],
   "source": [
    "import numpy as np\n",
    "\n",
    "a = 0   # the lower limit of the integral\n",
    "b = 1   # the upper limit of the integral\n",
    "n = 100000    # number of segmentations\n",
    "\n",
    "h = (b - a) / n # the width of each segmentation\n",
    "\n",
    "summ = 0\n",
    "\n",
    "for i in range(1,n - 1):\n",
    "    xi = a + i * h\n",
    "    yi = - np.log(np.log(1 /xi))\n",
    "\n",
    "    xj = a + (i + 1) * h\n",
    "    yj = - np.log(np.log(1 /xj))\n",
    "\n",
    "    summ = summ + (yi + yj) * h / 2\n",
    "\n",
    "print(summ)"
   ]
  },
  {
   "cell_type": "markdown",
   "metadata": {},
   "source": [
    "这三个方法中，方法一的代码最简洁，且准确度最高，所以方法一最好。方法二的收敛速度太慢。方法三的收敛速度没有方法一快，且准确度较低。"
   ]
  },
  {
   "cell_type": "markdown",
   "metadata": {},
   "source": [
    "如果在一个程序里需要多次用到这个常数，那我们应该一次性生成这个常数，然后把它存在一个变量中以备使用。如果每次需要的时候都生成一次的话，每次生成时这个常数的值都会有误差，会影响计算。"
   ]
  },
  {
   "cell_type": "code",
   "execution_count": null,
   "metadata": {},
   "outputs": [],
   "source": []
  }
 ],
 "metadata": {
  "file_extension": ".py",
  "kernelspec": {
   "display_name": "Python 3",
   "language": "python",
   "name": "python3"
  },
  "language_info": {
   "codemirror_mode": {
    "name": "ipython",
    "version": 3
   },
   "file_extension": ".py",
   "mimetype": "text/x-python",
   "name": "python",
   "nbconvert_exporter": "python",
   "pygments_lexer": "ipython3",
   "version": "3.7.2"
  },
  "mimetype": "text/x-python",
  "name": "python",
  "npconvert_exporter": "python",
  "pygments_lexer": "ipython3",
  "version": 3
 },
 "nbformat": 4,
 "nbformat_minor": 2
}
