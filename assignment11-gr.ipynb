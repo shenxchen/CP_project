{
 "cells": [
  {
   "cell_type": "markdown",
   "metadata": {},
   "source": [
    "# Assignment Week 11\n",
    "## Group Assignment (Group 10)"
   ]
  },
  {
   "cell_type": "markdown",
   "metadata": {},
   "source": [
    "#### 1. Please download `demo_midpoint.zip` und unpack it. What is the purpose of the main script `demo_midpoint.py`? What conclusion can you make by running the script? "
   ]
  },
  {
   "cell_type": "markdown",
   "metadata": {},
   "source": [
    "The main script `demo_midpoint.py` determines the running time of the Python functions `midpoint` and `midpoint_vec`, which can both be used to calculate numerical integration with the midpoint method, respectively, and calculate the ratio of them. The formmer uses a loop to add all the little intervals together, while the latter stores the nodes $\\{x_i\\}$ in an array $x$ and calculates the sum of $\\{f(x_i)\\}$ by weight.\n",
    "\n",
    "By running the script, we can find that `midpoint_vec` is much more efficient than `midpoint`."
   ]
  },
  {
   "cell_type": "code",
   "execution_count": 45,
   "metadata": {},
   "outputs": [
    {
     "name": "stdout",
     "output_type": "stream",
     "text": [
      "Time, midpoint: 35.6339 seconds\n",
      "Time, midpoint vec: 1.42211 seconds\n",
      "Efficiency factor: 25.057\n"
     ]
    }
   ],
   "source": [
    "%run demo_midpoint.py"
   ]
  },
  {
   "cell_type": "markdown",
   "metadata": {},
   "source": [
    "#### 2. Write a function to that numerically estimates the integral\n",
    "$$\n",
    "A =\\int^b_af (x)dx\n",
    "$$\n",
    "\n",
    "#### using the trapezoid rule. \n",
    "The simplest version of the trapezoid rule, which generally gives a very crude estimate, is\n",
    "$$\n",
    "A_0 = \\frac{1}{2}h_0[f (a) + f (b)], \\; h_0 = b - a\n",
    "$$\n",
    "\n",
    "Repeatedly applying the trapezoid rule gives the following succession of estimates\n",
    "$$\n",
    "\\begin{aligned}\n",
    "A_1& = \\frac{1}{2}h_1[f (a) + f (a + h_1)] + \\frac{1}{2}h_1[f (a + h_1) + f (b)],\\; h_1 = \\frac{1}{2}h_0\\\\\n",
    "&= \\frac{1}{2}h_1[f (a) + 2f (a + h_1) + f (b)]\\\\\n",
    "&= \\frac{1}{2}A_0 + h_1f (a + h_1)\\\\\n",
    "A_2 &= \\frac{1}{2}A_1 + h_2[f (a + h_2) + f (b - h_2)],\\; h_2 = \\frac{1}{2}h_1\\\\\n",
    "A_3& = \\frac{1}{2}A_2 + h_3[f (a + h_3) + f (a + 3h_3) + f (a + 5h_5) + f (b-h_3)],\\;h_3 = \\frac{1}{2}h_2\\\\\n",
    "&\\vdots\\\\\n",
    "A_n &= \\frac{1}{2}A_{n-1} + h_n\n",
    "\\sum_{i=1,3,\\cdots}^{2^{n-1}}\n",
    "f (a + ih_n),\\; h_n = \\frac{1}{2}\n",
    "h_{n-1},\\; \\text{for }n\\geq 1\n",
    "\\end{aligned}\n",
    "$$\n",
    "Write a function that implements the trapezoid rule by first evaluating $A_0$, then $A_1$, $\\cdots$ until $(A_i -A_{i-1})/A_i < \\epsilon$."
   ]
  },
  {
   "cell_type": "code",
   "execution_count": 1,
   "metadata": {},
   "outputs": [],
   "source": [
    "import numpy as np\n",
    "\n",
    "def trapezoid_rule(f, a, b, eps):\n",
    "    \n",
    "    h = b - a  # h_0\n",
    "    A = 0.5 * h * (f(a) + f(b))  # A_0\n",
    "    \n",
    "    n = 1\n",
    "    h = h / 2  # h_1\n",
    "    Anew = 0.5 * A + h * f(a + h)  # A_1\n",
    "    \n",
    "    while abs((Anew - A) / Anew) > eps:\n",
    "        n += 1\n",
    "        h = h / 2  # h_n\n",
    "        A = Anew\n",
    "        summ = 0\n",
    "        for i in np.arange(1, 2**n, 2):\n",
    "            summ += f(a + i * h)\n",
    "        Anew = 0.5 * A + h * summ  # A_n\n",
    "    \n",
    "    return Anew"
   ]
  },
  {
   "cell_type": "markdown",
   "metadata": {},
   "source": [
    "#### Try your trapezoid integration function on the following integrals and show that you get an answer within the specified tolerance of the exact value.\n",
    "\n",
    "   (1) $\\int_2^5 x^2 dx=39$\n",
    "\n",
    "   (2) $\\int_0^\\pi \\sin x dx =2$\n",
    "\n",
    "   (3) $\\int_0^{3.5} e^{-x^2}dx=\\frac{\\sqrt{\\pi}}{2}\\text{erf}(3.5)\\simeq 0.8862262668989721$"
   ]
  },
  {
   "cell_type": "code",
   "execution_count": 2,
   "metadata": {},
   "outputs": [
    {
     "name": "stdout",
     "output_type": "stream",
     "text": [
      "(1) I = 39.0000000671\n",
      "    Relative error = 1.7e-09\n",
      "(2) I = 1.9999999939\n",
      "    Relative error = 3.1e-09\n",
      "(3) I = 0.8862262648\n",
      "    Relative error = 2.4e-09\n"
     ]
    }
   ],
   "source": [
    "eps = 1e-8\n",
    "\n",
    "f1 = lambda x: x**2\n",
    "f2 = lambda x: np.sin(x)\n",
    "f3 = lambda x: np.exp(-x**2)\n",
    "\n",
    "for n, f, a, b, t in [1, f1, 2, 5, 39], [2, f2, 0, np.pi, 2], [3, f3, 0, 3.5, 0.8862262668989721]:\n",
    "    I = trapezoid_rule(f, a, b, eps)\n",
    "    err_r = abs((t - I) / t)\n",
    "    print('(%d) I = %.10f' % (n, I))\n",
    "    print('    Relative error = %.2g' % err_r)"
   ]
  },
  {
   "cell_type": "markdown",
   "metadata": {},
   "source": [
    "We can see that the relative error is indeed less than $\\epsilon=10^{-8}$."
   ]
  },
  {
   "cell_type": "markdown",
   "metadata": {},
   "source": [
    "#### 3.\n",
    "#### (1) Show that composite midpoint method for a double integral:\n",
    "$$\n",
    "\\begin{aligned}\n",
    "\\int_a^b\\int_c^d f(x,y)dydx &\\approx h_x\\sum_{i=0}^{n_x-1}h_y\\sum_{j=0}^{n_y-1}f(x_i,y_j)\\\\\n",
    "&=h_xh_y\\sum_{i=0}^{n_x-1}\\sum_{j=0}^{n_y-1}f(a+\\frac{h_x}{2}+ih_x,c+\\frac{h_y}{2}+jh_y)\n",
    "\\end{aligned}\n",
    "$$"
   ]
  },
  {
   "cell_type": "markdown",
   "metadata": {},
   "source": [
    "**Answer**:\n",
    "\n",
    "$$\n",
    "\\begin{aligned}\n",
    "f(x,y)&=f(x_0, y_0)+\\frac{\\partial}{\\partial x}f(x_0, y_0)(x-x_0)+\n",
    "\\frac{\\partial}{\\partial y}f(x_0, y_0)(y-y_0)\\\\\n",
    "&+\\frac{1}{2}\\left[(x-x_0)\\frac{\\partial}{\\partial x}+\n",
    "(y-y_0)\\frac{\\partial}{\\partial y}\\right]^2 f(x_0,y_0)+o^3\n",
    "\\end{aligned}\n",
    "$$\n",
    "\n",
    "$$\n",
    "\\begin{aligned}\n",
    "\\int_{x_0-\\delta x/2}^{x_0+\\delta x/2}\\int_{y_0-\\delta y/2}^{y_0+\\delta y/2}f(x, y)\\ {\\rm d}x{\\rm d}y\n",
    "&\\approx\\int_{x_0-\\delta x/2}^{x_0+\\delta x/2}\\int_{y_0-\\delta y/2}^{y_0+\\delta y/2}f(x_0, y_0)\\ {\\rm d}x{\\rm d}y\\\\\n",
    "&=\\delta x\\delta y f(x_0, y_0)\n",
    "\\end{aligned}\n",
    "$$\n",
    "\n",
    "So\n",
    "$$\n",
    "\\int_a^b\\int_c^d f(x,y){\\rm d}y{\\rm d}x\\approx h_x h_y\\sum_{i=0}^{n_x-1}\\sum_{j=0}^{n_y-1}f\\left(a+\\frac{h_x}{2}+ih_x,\\ c+\\frac{h_y}{2}+jh_y\\right)\n",
    "$$"
   ]
  },
  {
   "cell_type": "markdown",
   "metadata": {},
   "source": [
    "#### (2) Write a code to implement the above algorithm. Please follow the following three test procedures: \n",
    "\n",
    "- (2.a) a test function to compare with hand calculations \n",
    "- (2.b) solving a problem without numerical errors. You can take\n",
    "\n",
    "  $$\n",
    "  \\int_2^3\\int_0^2 (2x+y)dxdy=9\n",
    "  $$\n",
    "\n",
    "- (2.c Optional) demonstrating correct convergence rates. Computing convergence rates requires somewhat more tedious programming than for the previous tests, the algorithm typically goes like:  \n",
    "  for $i = 0, 1, 2, \\cdots ,q$\n",
    "  - $n_i = 2^{i+1}$\n",
    "  - Compute integral with $n_i$ intervals\n",
    "  - Compute the error $E_i$\n",
    "  - Estimate $r_i$ as\n",
    "\n",
    "  $$\n",
    "  r_{i-1}=-\\frac{\\ln(E_i/E_{i-1})}{\\ln (n_i/n_{i-1})}\n",
    "  $$"
   ]
  },
  {
   "cell_type": "code",
   "execution_count": 3,
   "metadata": {},
   "outputs": [
    {
     "name": "stdout",
     "output_type": "stream",
     "text": [
      "Test midpoint2D:\n",
      "Integral [2->3][0->2](2x+y)dxdy = 9.023042\n"
     ]
    },
    {
     "data": {
      "image/png": "[encoded data removed]",
      "text/plain": [
       "<Figure size 432x288 with 1 Axes>"
      ]
     },
     "metadata": {
      "needs_background": "light"
     },
     "output_type": "display_data"
    }
   ],
   "source": [
    "from numpy import array, log, arange\n",
    "import matplotlib.pyplot as plt\n",
    "%matplotlib inline\n",
    "\n",
    "def midpoint2D(f, a, b ,c, d, nx, ny):\n",
    "    hx = (b - a) / (nx - 1)\n",
    "    hy = (d - c) / (ny - 1)\n",
    "    W = array([[f(a + hx / 2 + i * hx, c + hy / 2 + j * hy) for j in range(ny)] for i in range(nx)])\n",
    "    return hx * hy * W.sum()\n",
    "\n",
    "def test_midpoint2D():\n",
    "    f = lambda x, y: 2 * x + y\n",
    "    I = midpoint2D(f, 0, 2, 2, 3, 1000, 1000)\n",
    "    print('Test midpoint2D:')\n",
    "    print('Integral [2->3][0->2](2x+y)dxdy = %f' % I)\n",
    "    pass\n",
    "\n",
    "test_midpoint2D()  # test the code\n",
    "\n",
    "# (2.c Optional) demonstrating correct convergence rates\n",
    "q = 10  # i=1,2,...,q & n=2^{i+1}\n",
    "\n",
    "f = lambda x, y: 2 * x + y\n",
    "\n",
    "Ex = [midpoint2D(f, 0, 2, 2, 3, 2**(i+1), 10) for i in range(q)]\n",
    "rx = [-(log(Ex[i] / Ex[i-1]) / log(2**(i+1) / 2**i)) for i in range(1, q)]\n",
    "\n",
    "Ey = [midpoint2D(f, 0, 2, 2, 3, 10, 2**(i+1)) for i in range(q)]\n",
    "ry = [-(log(Ey[i] / Ey[i-1]) / log(2**(i+1) / 2**i)) for i in range(1, q)]\n",
    "\n",
    "plt.title(r'Convergence Rates $r$ versus Number of Intervals $n=2^{i+1}$')\n",
    "plt.xlabel('i')\n",
    "plt.ylabel('r')\n",
    "plt.plot(range(1, q), rx)\n",
    "plt.plot(range(1, q), ry)\n",
    "plt.ylim(0, 1)\n",
    "plt.xlim(1, 9)\n",
    "plt.legend([r'$n_x\\ (n_y\\ {\\rm fixed})$', r'$n_y\\ (n_x\\ {\\rm fixed})$'])\n",
    "plt.show()"
   ]
  },
  {
   "cell_type": "markdown",
   "metadata": {},
   "source": [
    "#### 4. Please use Romberg integration to obtain a eighth-order accurate approximation to"
   ]
  },
  {
   "cell_type": "code",
   "execution_count": 4,
   "metadata": {},
   "outputs": [],
   "source": [
    "def midpoint(f, a, b, n):\n",
    "    h = (b - a) / n\n",
    "    x = np.linspace(a + h/2, b - h/2, n)\n",
    "    return h * sum(f(x))\n",
    "\n",
    "def Romberg(f, a, b, N=4):  # N denotes the level of accuracy\n",
    "    n = 100  # th initial number of segments\n",
    "    \n",
    "    # the matrix\n",
    "    T = np.zeros([N, N])\n",
    "    T[:, 0] = np.array([midpoint(f, a, b, 2**i * n) for i in range(N)])\n",
    "    for k in range(1, N):\n",
    "        for j in range(N-k):\n",
    "            T[j][k] = (4**(k) * T[j+1][k-1] - T[j][k-1]) / (4**(k) - 1)\n",
    "    \n",
    "    I = T[0][-1]  # the integral result\n",
    "    \n",
    "    return I, T"
   ]
  },
  {
   "cell_type": "markdown",
   "metadata": {},
   "source": [
    "#### (1)\n",
    "$$\n",
    "\\int_{-1}^1 \\frac{dx}{1+x^2}=\\frac{\\pi}{2}\n",
    "$$"
   ]
  },
  {
   "cell_type": "code",
   "execution_count": 5,
   "metadata": {},
   "outputs": [
    {
     "name": "stdout",
     "output_type": "stream",
     "text": [
      "The matrix:\n",
      "[[1.57081299 1.57079633 1.57079633 1.57079633]\n",
      " [1.57080049 1.57079633 1.57079633 0.        ]\n",
      " [1.57079737 1.57079633 0.         0.        ]\n",
      " [1.57079659 0.         0.         0.        ]]\n",
      "The result:\n",
      " I = 1.5707963267948948\n"
     ]
    }
   ],
   "source": [
    "f = lambda x: 1 / (1 + x**2)\n",
    "\n",
    "I, T = Romberg(f, -1, 1, 4)\n",
    "\n",
    "print('The matrix:')\n",
    "print(T)\n",
    "print('The result:\\n I =', I)"
   ]
  },
  {
   "cell_type": "markdown",
   "metadata": {},
   "source": [
    "#### (2)\n",
    "$$\n",
    "\\int_{-\\infty}^{\\infty}\\frac{dx}{(e^x+x+1)^2+\\pi^2}=\\frac{2}{3}\n",
    "$$"
   ]
  },
  {
   "cell_type": "markdown",
   "metadata": {},
   "source": [
    "We substitute $\\dfrac{6x}{1-x^2}$ for $x$ and take the integral over $[-1, 1]$, i.e.\n",
    "$$\n",
    "\\int_{-1}^{1}{\\frac{6\\frac{1+x^2}{(1-x^2)^2}}{\\left[\\exp\\left(\\frac{6x}{1-x^2}\\right) + \\frac{6x}{1-x^2}+1\\right]^2+\\pi^2}}\\ {\\rm d}x=\\frac{2}{3}\n",
    "$$"
   ]
  },
  {
   "cell_type": "code",
   "execution_count": 6,
   "metadata": {},
   "outputs": [
    {
     "name": "stdout",
     "output_type": "stream",
     "text": [
      "The matrix:\n",
      "[[0.66667593 0.66666667 0.66666667 0.66666667]\n",
      " [0.66666898 0.66666667 0.66666667 0.        ]\n",
      " [0.66666725 0.66666667 0.         0.        ]\n",
      " [0.66666681 0.         0.         0.        ]]\n",
      "The result:\n",
      " I = 0.6666666666666659\n"
     ]
    },
    {
     "name": "stderr",
     "output_type": "stream",
     "text": [
      "c:\\users\\shenxchen\\appdata\\local\\programs\\python\\python37\\lib\\site-packages\\ipykernel_launcher.py:2: RuntimeWarning: overflow encountered in square\n",
      "  \n",
      "c:\\users\\shenxchen\\appdata\\local\\programs\\python\\python37\\lib\\site-packages\\ipykernel_launcher.py:2: RuntimeWarning: overflow encountered in exp\n",
      "  \n"
     ]
    }
   ],
   "source": [
    "a = 6.0\n",
    "f = lambda x: a*(1+x**2) / (1-x**2)**2 / ((np.exp(a*x/(1-x**2)) + a*x/(1-x**2) + 1)**2 + np.pi**2)\n",
    "\n",
    "I, T = Romberg(f, -1, 1, 4)\n",
    "\n",
    "print('The matrix:')\n",
    "print(T)\n",
    "print('The result:\\n I =', I)"
   ]
  },
  {
   "cell_type": "markdown",
   "metadata": {},
   "source": [
    "#### 5. Try with Gauss-Legendre formula to determine the integral using 5, 10, and 20 points: \n",
    "$$\n",
    "I = \\int_0^1 \\frac{\\sin t}{t}dt\n",
    "$$"
   ]
  },
  {
   "cell_type": "markdown",
   "metadata": {},
   "source": [
    "**Answer**:\n",
    "$$\n",
    "I = \\frac{1}{2}\\int_{-1}^1 \\frac{\\sin t}{t}dt\\approx\\frac{1}{2}\\sum_{k=1}^n\\omega_k \\frac{\\sin x_k}{x_k}\n",
    "$$"
   ]
  },
  {
   "cell_type": "code",
   "execution_count": 7,
   "metadata": {},
   "outputs": [
    {
     "name": "stdout",
     "output_type": "stream",
     "text": [
      "[5 nodes]\n",
      "I = 0.9460830704032701\n",
      "\n",
      "[10 nodes]\n",
      "I = 0.9460830703671831\n",
      "\n",
      "[20 nodes]\n",
      "I = 0.9460830703671829\n",
      "\n"
     ]
    }
   ],
   "source": [
    "from numpy import array, sin, dot\n",
    "\n",
    "f = lambda t: sin(t) / t # the integrand\n",
    "\n",
    "x1 = array([-0.906179845938664, -0.538469310105683,0.000000000000001, \\\n",
    "            0.538469310105683, 0.906179845938664])  # 5 nodes\n",
    "x2 = array([-0.973906528517171720, -0.865063366688984511, \\\n",
    "            -0.679409568299024406, -0.433395394129247191, \\\n",
    "            -0.148874338981631211, 0.148874338981631211, \\\n",
    "            0.433395394129247191, 0.679409568299024406, \\\n",
    "            0.865063366688984511, 0.973906528517171720])  # 10 nodes\n",
    "x3 = array([-0.993128599185094924786, -0.963971927277913791268,\\\n",
    "            -0.912234428251325905868, -0.839116971822218823395,\\\n",
    "            -0.746331906460150792614, -0.636053680726515025453,\\\n",
    "            -0.510867001950827098004, -0.373706088715419560673,\\\n",
    "            -0.227785851141645078080, -0.076526521133497333755,\\\n",
    "            0.076526521133497333755, 0.227785851141645078080,\\\n",
    "            0.373706088715419560673, 0.510867001950827098004,\\\n",
    "            0.636053680726515025453, 0.746331906460150792614,\\\n",
    "            0.839116971822218823395, 0.912234428251325905868,\\\n",
    "            0.963971927277913791268, 0.993128599185094924786])  # 20 nodes\n",
    "\n",
    "w1 = array([0.236926885056189, 0.478628670499366, 0.568888888888889,\\\n",
    "           0.478628670499366, 0.236926885056189])  # weights of 5 nodes\n",
    "w2 = array([0.066671344308688138, 0.149451349150580593, \\\n",
    "            0.219086362515982044, 0.269266719309996355, \\\n",
    "            0.295524224714752870, 0.295524224714752870, \\\n",
    "            0.269266719309996355, 0.219086362515982044, \\\n",
    "            0.149451349150580593, 0.066671344308688138])  # weights of 10 nodes\n",
    "w3 = array([0.017614007139152118312, 0.040601429800386941331, \\\n",
    "            0.062672048334109063570, 0.083276741576704748725, \\\n",
    "            0.101930119817240435037, 0.118194531961518417312, \\\n",
    "            0.131688638449176626898, 0.142096109318382051329, \\\n",
    "            0.149172986472603746788, 0.152753387130725850698, \\\n",
    "            0.152753387130725850698, 0.149172986472603746788, \\\n",
    "            0.142096109318382051329, 0.131688638449176626898, \\\n",
    "            0.118194531961518417312, 0.101930119817240435037, \\\n",
    "            0.083276741576704748725, 0.062672048334109063570, \\\n",
    "            0.040601429800386941331, 0.017614007139152118312])  # weights of 20 nodes\n",
    "\n",
    "I1 = dot(w1, f(x1)) / 2\n",
    "I2 = dot(w2, f(x2)) / 2\n",
    "I3 = dot(w3, f(x3)) / 2\n",
    "\n",
    "print('[5 nodes]\\nI = %.16f\\n' % I1)\n",
    "print('[10 nodes]\\nI = %.16f\\n' % I2)\n",
    "print('[20 nodes]\\nI = %.16f\\n' % I3)"
   ]
  },
  {
   "cell_type": "code",
   "execution_count": null,
   "metadata": {},
   "outputs": [],
   "source": []
  }
 ],
 "metadata": {
  "kernelspec": {
   "display_name": "Python 3",
   "language": "python",
   "name": "python3"
  },
  "language_info": {
   "codemirror_mode": {
    "name": "ipython",
    "version": 3
   },
   "file_extension": ".py",
   "mimetype": "text/x-python",
   "name": "python",
   "nbconvert_exporter": "python",
   "pygments_lexer": "ipython3",
   "version": "3.7.2"
  }
 },
 "nbformat": 4,
 "nbformat_minor": 2
}
