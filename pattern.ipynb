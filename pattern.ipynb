{
 "cells": [
  {
   "cell_type": "code",
   "execution_count": 19,
   "metadata": {},
   "outputs": [
    {
     "data": {
      "image/png": "[encoded data removed]",
      "image/svg+xml": "<?xml version=\"1.0\" encoding=\"utf-8\" standalone=\"no\"?>\r\n<!DOCTYPE svg PUBLIC \"-//W3C//DTD SVG 1.1//EN\"\r\n  \"http://www.w3.org/Graphics/SVG/1.1/DTD/svg11.dtd\">\r\n<!-- Created with matplotlib (https://matplotlib.org/) -->\r\n<svg height=\"415.403325pt\" version=\"1.1\" viewBox=\"0 0 328.152909 415.403325\" width=\"328.152909pt\" xmlns=\"http://www.w3.org/2000/svg\" xmlns:xlink=\"http://www.w3.org/1999/xlink\">\r\n <defs>\r\n  <style type=\"text/css\">\r\n*{stroke-linecap:butt;stroke-linejoin:round;}\r\n  </style>\r\n </defs>\r\n <g id=\"figure_1\">\r\n  <g id=\"patch_1\">\r\n   <path d=\"M 0 415.403325 \r\nL 328.152909 415.403325 \r\nL 328.152909 0 \r\nL 0 0 \r\nz\r\n\" style=\"fill:none;\"/>\r\n  </g>\r\n  <g id=\"axes_1\">\r\n   <g id=\"line2d_1\">\r\n    <path clip-path=\"url(#pe4c61ecd4e)\" d=\"M 65.127421 391.5252 \r\nL 65.127421 7.2 \r\n\" style=\"fill:none;stroke:#1f77b4;stroke-linecap:square;stroke-width:0.3;\"/>\r\n   </g>\r\n   <g id=\"line2d_2\">\r\n    <path clip-path=\"url(#pe4c61ecd4e)\" d=\"M 39.65 379.635737 \r\nL 311.409159 379.635737 \r\n\" style=\"fill:none;stroke:#ff0000;stroke-linecap:square;stroke-width:0.3;\"/>\r\n   </g>\r\n   <g id=\"line2d_3\">\r\n    <path clip-path=\"url(#pe4c61ecd4e)\" d=\"M 39.65 367.066876 \r\nL 311.409159 367.066876 \r\n\" style=\"fill:none;stroke:#ff0000;stroke-linecap:square;stroke-width:0.3;\"/>\r\n   </g>\r\n   <g id=\"line2d_4\">\r\n    <path clip-path=\"url(#pe4c61ecd4e)\" d=\"M 39.65 354.498015 \r\nL 311.409159 354.498015 \r\n\" style=\"fill:none;stroke:#ff0000;stroke-linecap:square;stroke-width:0.3;\"/>\r\n   </g>\r\n   <g id=\"line2d_5\">\r\n    <path clip-path=\"url(#pe4c61ecd4e)\" d=\"M 39.65 341.929153 \r\nL 311.409159 341.929153 \r\n\" style=\"fill:none;stroke:#ff0000;stroke-linecap:square;stroke-width:0.3;\"/>\r\n   </g>\r\n   <g id=\"line2d_6\">\r\n    <path clip-path=\"url(#pe4c61ecd4e)\" d=\"M 39.65 329.360292 \r\nL 311.409159 329.360292 \r\n\" style=\"fill:none;stroke:#ff0000;stroke-linecap:square;stroke-width:0.3;\"/>\r\n   </g>\r\n   <g id=\"line2d_7\">\r\n    <path clip-path=\"url(#pe4c61ecd4e)\" d=\"M 39.65 316.791431 \r\nL 311.409159 316.791431 \r\n\" style=\"fill:none;stroke:#ff0000;stroke-linecap:square;stroke-width:0.3;\"/>\r\n   </g>\r\n   <g id=\"line2d_8\">\r\n    <path clip-path=\"url(#pe4c61ecd4e)\" d=\"M 39.65 304.22257 \r\nL 311.409159 304.22257 \r\n\" style=\"fill:none;stroke:#ff0000;stroke-linecap:square;stroke-width:0.3;\"/>\r\n   </g>\r\n   <g id=\"line2d_9\">\r\n    <path clip-path=\"url(#pe4c61ecd4e)\" d=\"M 39.65 291.653709 \r\nL 311.409159 291.653709 \r\n\" style=\"fill:none;stroke:#ff0000;stroke-linecap:square;stroke-width:0.3;\"/>\r\n   </g>\r\n   <g id=\"line2d_10\">\r\n    <path clip-path=\"url(#pe4c61ecd4e)\" d=\"M 39.65 279.084848 \r\nL 311.409159 279.084848 \r\n\" style=\"fill:none;stroke:#ff0000;stroke-linecap:square;stroke-width:0.3;\"/>\r\n   </g>\r\n   <g id=\"line2d_11\">\r\n    <path clip-path=\"url(#pe4c61ecd4e)\" d=\"M 39.65 266.515987 \r\nL 311.409159 266.515987 \r\n\" style=\"fill:none;stroke:#ff0000;stroke-linecap:square;stroke-width:0.3;\"/>\r\n   </g>\r\n   <g id=\"line2d_12\">\r\n    <path clip-path=\"url(#pe4c61ecd4e)\" d=\"M 39.65 253.947126 \r\nL 311.409159 253.947126 \r\n\" style=\"fill:none;stroke:#ff0000;stroke-linecap:square;stroke-width:0.3;\"/>\r\n   </g>\r\n   <g id=\"line2d_13\">\r\n    <path clip-path=\"url(#pe4c61ecd4e)\" d=\"M 39.65 241.378265 \r\nL 311.409159 241.378265 \r\n\" style=\"fill:none;stroke:#ff0000;stroke-linecap:square;stroke-width:0.3;\"/>\r\n   </g>\r\n   <g id=\"line2d_14\">\r\n    <path clip-path=\"url(#pe4c61ecd4e)\" d=\"M 39.65 228.809403 \r\nL 311.409159 228.809403 \r\n\" style=\"fill:none;stroke:#ff0000;stroke-linecap:square;stroke-width:0.3;\"/>\r\n   </g>\r\n   <g id=\"line2d_15\">\r\n    <path clip-path=\"url(#pe4c61ecd4e)\" d=\"M 39.65 216.240542 \r\nL 311.409159 216.240542 \r\n\" style=\"fill:none;stroke:#ff0000;stroke-linecap:square;stroke-width:0.3;\"/>\r\n   </g>\r\n   <g id=\"line2d_16\">\r\n    <path clip-path=\"url(#pe4c61ecd4e)\" d=\"M 39.65 203.671681 \r\nL 311.409159 203.671681 \r\n\" style=\"fill:none;stroke:#ff0000;stroke-linecap:square;stroke-width:0.3;\"/>\r\n   </g>\r\n   <g id=\"line2d_17\">\r\n    <path clip-path=\"url(#pe4c61ecd4e)\" d=\"M 39.65 191.10282 \r\nL 311.409159 191.10282 \r\n\" style=\"fill:none;stroke:#ff0000;stroke-linecap:square;stroke-width:0.3;\"/>\r\n   </g>\r\n   <g id=\"line2d_18\">\r\n    <path clip-path=\"url(#pe4c61ecd4e)\" d=\"M 39.65 178.533959 \r\nL 311.409159 178.533959 \r\n\" style=\"fill:none;stroke:#ff0000;stroke-linecap:square;stroke-width:0.3;\"/>\r\n   </g>\r\n   <g id=\"line2d_19\">\r\n    <path clip-path=\"url(#pe4c61ecd4e)\" d=\"M 39.65 165.965098 \r\nL 311.409159 165.965098 \r\n\" style=\"fill:none;stroke:#ff0000;stroke-linecap:square;stroke-width:0.3;\"/>\r\n   </g>\r\n   <g id=\"line2d_20\">\r\n    <path clip-path=\"url(#pe4c61ecd4e)\" d=\"M 39.65 153.396237 \r\nL 311.409159 153.396237 \r\n\" style=\"fill:none;stroke:#ff0000;stroke-linecap:square;stroke-width:0.3;\"/>\r\n   </g>\r\n   <g id=\"line2d_21\">\r\n    <path clip-path=\"url(#pe4c61ecd4e)\" d=\"M 39.65 140.827376 \r\nL 311.409159 140.827376 \r\n\" style=\"fill:none;stroke:#ff0000;stroke-linecap:square;stroke-width:0.3;\"/>\r\n   </g>\r\n   <g id=\"line2d_22\">\r\n    <path clip-path=\"url(#pe4c61ecd4e)\" d=\"M 39.65 128.258514 \r\nL 311.409159 128.258514 \r\n\" style=\"fill:none;stroke:#ff0000;stroke-linecap:square;stroke-width:0.3;\"/>\r\n   </g>\r\n   <g id=\"line2d_23\">\r\n    <path clip-path=\"url(#pe4c61ecd4e)\" d=\"M 39.65 115.689653 \r\nL 311.409159 115.689653 \r\n\" style=\"fill:none;stroke:#ff0000;stroke-linecap:square;stroke-width:0.3;\"/>\r\n   </g>\r\n   <g id=\"line2d_24\">\r\n    <path clip-path=\"url(#pe4c61ecd4e)\" d=\"M 39.65 103.120792 \r\nL 311.409159 103.120792 \r\n\" style=\"fill:none;stroke:#ff0000;stroke-linecap:square;stroke-width:0.3;\"/>\r\n   </g>\r\n   <g id=\"line2d_25\">\r\n    <path clip-path=\"url(#pe4c61ecd4e)\" d=\"M 39.65 90.551931 \r\nL 311.409159 90.551931 \r\n\" style=\"fill:none;stroke:#ff0000;stroke-linecap:square;stroke-width:0.3;\"/>\r\n   </g>\r\n   <g id=\"line2d_26\">\r\n    <path clip-path=\"url(#pe4c61ecd4e)\" d=\"M 39.65 77.98307 \r\nL 311.409159 77.98307 \r\n\" style=\"fill:none;stroke:#ff0000;stroke-linecap:square;stroke-width:0.3;\"/>\r\n   </g>\r\n   <g id=\"line2d_27\">\r\n    <path clip-path=\"url(#pe4c61ecd4e)\" d=\"M 39.65 65.414209 \r\nL 311.409159 65.414209 \r\n\" style=\"fill:none;stroke:#ff0000;stroke-linecap:square;stroke-width:0.3;\"/>\r\n   </g>\r\n   <g id=\"line2d_28\">\r\n    <path clip-path=\"url(#pe4c61ecd4e)\" d=\"M 39.65 52.845348 \r\nL 311.409159 52.845348 \r\n\" style=\"fill:none;stroke:#ff0000;stroke-linecap:square;stroke-width:0.3;\"/>\r\n   </g>\r\n   <g id=\"line2d_29\">\r\n    <path clip-path=\"url(#pe4c61ecd4e)\" d=\"M 39.65 40.276487 \r\nL 311.409159 40.276487 \r\n\" style=\"fill:none;stroke:#ff0000;stroke-linecap:square;stroke-width:0.3;\"/>\r\n   </g>\r\n   <g id=\"line2d_30\">\r\n    <path clip-path=\"url(#pe4c61ecd4e)\" d=\"M 39.65 27.707626 \r\nL 311.409159 27.707626 \r\n\" style=\"fill:none;stroke:#ff0000;stroke-linecap:square;stroke-width:0.3;\"/>\r\n   </g>\r\n  </g>\r\n </g>\r\n <defs>\r\n  <clipPath id=\"pe4c61ecd4e\">\r\n   <rect height=\"384.3252\" width=\"271.759159\" x=\"39.65\" y=\"7.2\"/>\r\n  </clipPath>\r\n </defs>\r\n</svg>\r\n",
      "text/plain": "<Figure size 360x509.04 with 1 Axes>"
     },
     "metadata": {
      "needs_background": "light"
     },
     "output_type": "display_data"
    }
   ],
   "source": [
    "import numpy as np\n",
    "import matplotlib.pyplot as plt\n",
    "\n",
    "%matplotlib inline\n",
    "\n",
    "def bgplot():\n",
    "    plt.plot([75,75],[-35,1096.37],linewidth = 0.3)\n",
    "    for y in range(0,1070,37):\n",
    "        plt.plot([0,800],[y,y],color=\"red\",linewidth = 0.3)\n",
    "\n",
    "fig = plt.figure(figsize=(5,7.07))\n",
    "\n",
    "bgplot()\n",
    "\n",
    "plt.axis('scaled')\n",
    "plt.axis('off')\n",
    "plt.xlim([0,800])\n",
    "plt.ylim([-35,1096.37])\n",
    "\n",
    "plt.savefig(\"img.jpg\",dpi=300)\n",
    "plt.show()"
   ]
  }
 ],
 "metadata": {
  "kernelspec": {
   "display_name": "Python 3",
   "language": "python",
   "name": "python3"
  },
  "language_info": {
   "codemirror_mode": {
    "name": "ipython",
    "version": 3
   },
   "file_extension": ".py",
   "mimetype": "text/x-python",
   "name": "python",
   "nbconvert_exporter": "python",
   "pygments_lexer": "ipython3",
   "version": "3.7.2-final"
  }
 },
 "nbformat": 4,
 "nbformat_minor": 4
}