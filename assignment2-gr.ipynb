{
 "cells": [
  {
   "cell_type": "markdown",
   "metadata": {},
   "source": [
    "# Assignment Week 2\n",
    "## Group Assignment (Group 10)\n",
    "### Write a program that determines the day of the week for any given calendar date after January 1, 1900, which was a Monday.\n",
    "**Method 1**: You design your own algorithm to determine the passing days between two arbitrary dates. Your program will need to take into account leap years, which occur in every year that is divisible by 4, except for years that are divisible by 100 but are not divisible by 400. For example, 1900 was not a leap year, but 2000 was a leap year. "
   ]
  },
  {
   "cell_type": "markdown",
   "metadata": {},
   "source": [
    "To determine the passing days between two arbitrary dates, we takes three steps:  \n",
    "<u>Step 1</u>: Calculate the passing days between one of the arbitrary dates and January 1st of the year coresponding to that date, respectively, denoted as $d_1$ and $d_2$. The difference is $d=d_2-d_1$.  \n",
    "<u>Step 2</u>: Calculate the passing days between January 1st of the two years in the two dates, denoted as f.  \n",
    "<u>Step 3</u>: The final result is $d+f$.\n",
    "\n",
    "Knowing the passing days between any date and January 1st, 1900, which is a Monday, we can easily determine the day of the week for this date.\n",
    "\n",
    "First, we define a class named `date`, containing the basic information of a calendar date."
   ]
  },
  {
   "cell_type": "code",
   "execution_count": 1,
   "metadata": {},
   "outputs": [],
   "source": [
    "class date():\n",
    "    def __init__(self,year = 1900, month = 1, day = 1):\n",
    "        self.year = year\n",
    "        self.month = month\n",
    "        self.day = day\n",
    "        self.leap = is_leap(self.year)  # judge if it is a leap year\n",
    "\n",
    "    # to print the date on the screen\n",
    "    def __str__(self):\n",
    "        return \"%d-%d-%d\" % (self.year, self.month, self.day)\n",
    "    \n",
    "    # to get the day of the week\n",
    "    def weekday(self):\n",
    "        d0 = date(1900,1,1)\n",
    "        return (days_between(d0, self) % 7) # '0' for Monday, '1' for Tuesday, ...\n",
    "\n"
   ]
  },
  {
   "cell_type": "code",
   "execution_count": 2,
   "metadata": {},
   "outputs": [],
   "source": [
    "# determine the passing days between two arbitrary dates, Date1 and Date2\n",
    "def days_between(Date1, Date2):\n",
    "    d = what_day(Date2) - what_day(Date1)   # step 1\n",
    "    f = days_between_the_first_day_of(Date1.year, Date2.year)   # step 2\n",
    "    return d + f    # step 3"
   ]
  },
  {
   "cell_type": "markdown",
   "metadata": {},
   "source": [
    "To accomplish step 1, one just needs to list the total days of the passed months for each month in a year. Whether the year is a leap year or not should be taken into consideration.\n",
    "\n",
    "|$\\quad$month$\\quad$|not_leap_year|$\\quad$leap_year$\\quad$|\n",
    "|:---:|:-----------:|:-------:|\n",
    "|1|0|0|\n",
    "|2|31|31|\n",
    "|3|59|60|\n",
    "|4|90|91|\n",
    "|5|120|121|\n",
    "|6|151|152|\n",
    "|7|181|182|\n",
    "|8|212|213|\n",
    "|9|243|244|\n",
    "|10|273|274|\n",
    "|11|304|305|\n",
    "|12|334|335|"
   ]
  },
  {
   "cell_type": "code",
   "execution_count": 3,
   "metadata": {},
   "outputs": [],
   "source": [
    "# step 1\n",
    "def what_day(Date):\n",
    "\n",
    "    L = [0,31,59,90,120,151,181,212,243,273,304,334]\n",
    "    L_leap = [0,31,60,91,121,152,182,213,244,274,305,335]\n",
    "\n",
    "    if Date.leap == False:\n",
    "        return L[Date.month - 1] + Date.day\n",
    "    else:\n",
    "        return L_leap[Date.month - 1] + Date.day"
   ]
  },
  {
   "cell_type": "markdown",
   "metadata": {},
   "source": [
    "To accomplish step 2, we add 365 or 366 to an integer variable for each year during the time period (including the beginning year but excluding the end year)."
   ]
  },
  {
   "cell_type": "code",
   "execution_count": 4,
   "metadata": {},
   "outputs": [],
   "source": [
    "# step 2\n",
    "def days_between_the_first_day_of(year1, year2):\n",
    "    d = 0\n",
    "    for year in range(year1, year2):\n",
    "        # judge whether a leap year\n",
    "        if is_leap(year) == False:\n",
    "            d = d + 365\n",
    "        else:\n",
    "            d = d + 366\n",
    "    return d"
   ]
  },
  {
   "cell_type": "code",
   "execution_count": 5,
   "metadata": {},
   "outputs": [],
   "source": [
    "# judge if the specified year is a leap year\n",
    "def is_leap(year):\n",
    "    if year % 4 != 0:   # not divisible by 4\n",
    "        return False\n",
    "    else:\n",
    "        if year % 100 != 0: # not divisible by 100\n",
    "            return True\n",
    "        else:\n",
    "            if year % 400 != 0: # not divisible by 400\n",
    "                return False\n",
    "            else:\n",
    "                return True"
   ]
  },
  {
   "cell_type": "markdown",
   "metadata": {},
   "source": [
    "Test and print the result:"
   ]
  },
  {
   "cell_type": "code",
   "execution_count": 6,
   "metadata": {},
   "outputs": [
    {
     "name": "stdout",
     "output_type": "stream",
     "text": [
      "2111-5-16 is Saturday\n"
     ]
    }
   ],
   "source": [
    "if __name__=='__main__':\n",
    "    Date = date(2111,5,16)\n",
    "    wk = Date.weekday()\n",
    "\n",
    "    week_list = ['Monday', 'Tuesday', 'Wednesday', 'Thursday', 'Friday', 'Saturday', 'Sunday']\n",
    "    print(Date, 'is', week_list[wk])"
   ]
  },
  {
   "cell_type": "markdown",
   "metadata": {},
   "source": [
    "**Method 2**: You can import the module  `datetime`. An example: `today = datetime.date(2020,3,10)`\n",
    "\n",
    "Above we write the `date` class ourselves, however, Python has its intrinsic class `datetime.date`. We can use the method `datetime.date.weekday()` to get the day of the week directly."
   ]
  },
  {
   "cell_type": "code",
   "execution_count": 7,
   "metadata": {},
   "outputs": [
    {
     "name": "stdout",
     "output_type": "stream",
     "text": [
      "Please input a canlendar date (xxxx-xx-xx):\n",
      "2020-03-12\n",
      "2020-03-12 is Thursday\n"
     ]
    }
   ],
   "source": [
    "import datetime\n",
    "\n",
    "s = input('Please input a canlendar date (xxxx-xx-xx):\\n')  # input a date from the keyboard\n",
    "\n",
    "# convert what keys in to integers\n",
    "year = int(s.split('-')[0])\n",
    "month = int(s.split('-')[1])\n",
    "day = int(s.split('-')[2])\n",
    "\n",
    "Date = datetime.date(year, month, day)\n",
    "wk = Date.weekday()   # get the day of the week\n",
    "\n",
    "week_list = ['Monday', 'Tuesday', 'Wednesday', 'Thursday', 'Friday', 'Saturday', 'Sunday']\n",
    "print(Date, 'is', week_list[wk])"
   ]
  },
  {
   "cell_type": "markdown",
   "metadata": {},
   "source": [
    "**Method 3**: You can use the data structure `datetime64` from the module `Numpy`, for example `today = np.datetime64('2020-03-10')`.\n",
    "\n",
    "We can obtain the difference of two arbitrary variables of the `datetime64` class by using the defined operator '-'. This operation will return a variable of the `timedelta` class that records the number of days between the two dates. Use the function `__str__` to convert it to a string like '1000 days' and fetch the number using the method `split()`."
   ]
  },
  {
   "cell_type": "code",
   "execution_count": 8,
   "metadata": {},
   "outputs": [
    {
     "name": "stdout",
     "output_type": "stream",
     "text": [
      "Please input a canlendar date (xxxx-xx-xx):\n",
      "2020-03-13\n",
      "2020-03-13 is Friday\n"
     ]
    }
   ],
   "source": [
    "import numpy as np\n",
    "\n",
    "s = input('Please input a canlendar date (xxxx-xx-xx):\\n')  # input a date from the keyboard\n",
    "\n",
    "d1 = np.datetime64('1900-01-01')\n",
    "d2 = np.datetime64(s)\n",
    "diff=int(str(d2-d1).split()[0]) # the passing days between the input date and January 1st, 1900\n",
    "\n",
    "wk = diff % 7   # get the day of the week\n",
    "\n",
    "week_list = ['Monday', 'Tuesday', 'Wednesday', 'Thursday', 'Friday', 'Saturday', 'Sunday']\n",
    "print(d2,'is',week_list[wk])"
   ]
  },
  {
   "cell_type": "code",
   "execution_count": null,
   "metadata": {},
   "outputs": [],
   "source": []
  }
 ],
 "metadata": {
  "file_extension": ".py",
  "kernelspec": {
   "display_name": "Python 3",
   "language": "python",
   "name": "python3"
  },
  "language_info": {
   "codemirror_mode": {
    "name": "ipython",
    "version": 3
   },
   "file_extension": ".py",
   "mimetype": "text/x-python",
   "name": "python",
   "nbconvert_exporter": "python",
   "pygments_lexer": "ipython3",
   "version": "3.7.2"
  },
  "mimetype": "text/x-python",
  "name": "python",
  "npconvert_exporter": "python",
  "pygments_lexer": "ipython3",
  "version": 3
 },
 "nbformat": 4,
 "nbformat_minor": 2
}